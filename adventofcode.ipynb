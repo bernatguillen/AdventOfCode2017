{
 "cells": [
  {
   "cell_type": "markdown",
   "metadata": {
    "collapsed": true
   },
   "source": [
    "# Utility functions (from P. Norvig)"
   ]
  },
  {
   "cell_type": "code",
   "execution_count": 1,
   "metadata": {},
   "outputs": [],
   "source": [
    "# Python 3.x\n",
    "import re\n",
    "import numpy as np\n",
    "import math\n",
    "import urllib.request\n",
    "\n",
    "from collections import Counter, defaultdict, namedtuple, deque\n",
    "from functools   import lru_cache\n",
    "from itertools   import permutations, combinations, chain, cycle, product, islice\n",
    "from heapq       import heappop, heappush\n",
    "\n",
    "def Input(day):\n",
    "    \"Open this day's input file.\"\n",
    "    filename = './inputs/input{}'.format(day)\n",
    "    try:\n",
    "        return open(filename)\n",
    "    except FileNotFoundError:\n",
    "        return urllib.request.urlopen(\"http://adventofcode.com/2017/day/{}/input\".format(day))\n",
    "\n",
    "def transpose(matrix): return zip(*matrix)\n",
    "\n",
    "def first(iterable): return next(iter(iterable))\n",
    "\n",
    "def nth(iterable, n, default=None):\n",
    "    \"Returns the nth item of iterable, or a default value\"\n",
    "    return next(islice(iterable, n, None), default)\n",
    "\n",
    "cat = ''.join\n",
    "\n",
    "empty   = frozenset() # Empty set\n",
    "inf = float('inf')\n",
    "BIG = 10 ** 999\n",
    "\n",
    "def grep(pattern, lines):\n",
    "    \"Print lines that match pattern.\"\n",
    "    for line in lines:\n",
    "        if re.search(pattern, line):\n",
    "            print(line)\n",
    "\n",
    "def groupby(iterable, key=lambda it: it):\n",
    "    \"Return a dic whose keys are key(it) and whose values are all the elements of iterable with that key.\"\n",
    "    dic = defaultdict(list)\n",
    "    for it in iterable:\n",
    "        dic[key(it)].append(it)\n",
    "    return dic\n",
    "\n",
    "def powerset(iterable):\n",
    "    \"Yield all subsets of items.\"\n",
    "    items = list(iterable)\n",
    "    for r in range(len(items)+1):\n",
    "        for c in combinations(items, r):\n",
    "            yield c\n",
    "\n",
    "# 2-D points implemented using (x, y) tuples\n",
    "def X(point): return point[0]\n",
    "def Y(point): return point[1]\n",
    "\n",
    "def neighbors4(point): \n",
    "    \"The four neighbors (without diagonals).\"\n",
    "    x, y = point\n",
    "    return ((x+1, y), (x-1, y), (x, y+1), (x, y-1))\n",
    "\n",
    "def neighbors8(point): \n",
    "    \"The eight neighbors (with diagonals).\"\n",
    "    x, y = point \n",
    "    return ((x+1, y), (x-1, y), (x, y+1), (x, y-1),\n",
    "            (x+1, y+1), (x-1, y-1), (x+1, y-1), (x-1, y+1))\n",
    "\n",
    "def cityblock_distance(p, q=(0, 0)): \n",
    "    \"City block distance between two points.\"\n",
    "    return abs(X(p) - X(q)) + abs(Y(p) - Y(q))\n",
    "\n",
    "def euclidean_distance(p, q=(0, 0)): \n",
    "    \"Euclidean (hypotenuse) distance between two points.\"\n",
    "    return math.hypot(X(p) - X(q), Y(p) - Y(q))\n",
    "\n",
    "def trace1(f):\n",
    "    \"Print a trace of the input and output of a function on one line.\"\n",
    "    def traced_f(*args):\n",
    "        result = f(*args)\n",
    "        print('{}({}) = {}'.format(f.__name__, ', '.join(map(str, args)), result))\n",
    "        return result\n",
    "    return traced_f\n",
    "\n",
    "def astar_search(start, h_func, moves_func):\n",
    "    \"Find a shortest sequence of states from start to a goal state (a state s with h_func(s) == 0).\"\n",
    "    frontier  = [(h_func(start), start)] # A priority queue, ordered by path length, f = g + h\n",
    "    previous  = {start: None}  # start state has no previous state; other states will\n",
    "    path_cost = {start: 0}     # The cost of the best path to a state.\n",
    "    while frontier:\n",
    "        (f, s) = heappop(frontier)\n",
    "        if h_func(s) == 0:\n",
    "            return Path(previous, s)\n",
    "        for s2 in moves_func(s):\n",
    "            new_cost = path_cost[s] + 1\n",
    "            if s2 not in path_cost or new_cost < path_cost[s2]:\n",
    "                heappush(frontier, (new_cost + h_func(s2), s2))\n",
    "                path_cost[s2] = new_cost\n",
    "                previous[s2] = s\n",
    "    return dict(fail=True, front=len(frontier), prev=len(previous))\n",
    "                \n",
    "def Path(previous, s): \n",
    "    \"Return a list of states that lead to state s, according to the previous dict.\"\n",
    "    return ([] if (s is None) else Path(previous, previous[s]) + [s])"
   ]
  },
  {
   "cell_type": "markdown",
   "metadata": {},
   "source": [
    "# My utility functions"
   ]
  },
  {
   "cell_type": "code",
   "execution_count": 2,
   "metadata": {},
   "outputs": [],
   "source": [
    "import functools\n",
    "def myreverse(seq, i0, length):\n",
    "    nseq = []\n",
    "    for i in range(length):\n",
    "        nseq.append(seq[(i0+i)%len(seq)])\n",
    "    for i in range(length):\n",
    "        seq[(i0+i)%len(seq)] = list(reversed(nseq))[i]\n",
    "def knothash(odata, frmt='02x'):\n",
    "    data = [ord(d) for d in odata] + [17, 31, 73, 47, 23]\n",
    "    seq = list(range(256))\n",
    "    pos = 0\n",
    "    sks = 0\n",
    "    for i in range(64):\n",
    "        for l in data:\n",
    "            myreverse(seq, pos, l)\n",
    "            pos = (pos + l +sks)%len(seq)\n",
    "            sks += 1\n",
    "    dhash = []\n",
    "    c = \"\"\n",
    "    for i in range(16):\n",
    "        dhash += [functools.reduce(lambda a, b: a^b, seq[16*i:16*(i+1)])]\n",
    "        c+=format(dhash[i],frmt)\n",
    "    return c"
   ]
  },
  {
   "cell_type": "markdown",
   "metadata": {},
   "source": [
    "Tests"
   ]
  },
  {
   "cell_type": "code",
   "execution_count": 4,
   "metadata": {},
   "outputs": [],
   "source": [
    "assert tuple(transpose(((1, 2, 3), (4, 5, 6)))) == ((1, 4), (2, 5), (3, 6))\n",
    "assert first('abc') == first(['a', 'b', 'c']) == 'a'\n",
    "assert cat(['a', 'b', 'c']) == 'abc'\n",
    "assert (groupby(['test', 'one', 'two', 'three', 'four'], key=len) \n",
    "        == {3: ['one', 'two'], 4: ['test', 'four'], 5: ['three']})"
   ]
  },
  {
   "cell_type": "markdown",
   "metadata": {},
   "source": [
    "# Day 1, challenge 1\n",
    "\n",
    "Need to obtain summation of all digits in a number such that the next digit is the same (circular)"
   ]
  },
  {
   "cell_type": "code",
   "execution_count": 31,
   "metadata": {},
   "outputs": [],
   "source": [
    "f = Input(1)\n",
    "data = f.read()[:-1]\n",
    "f.close()"
   ]
  },
  {
   "cell_type": "code",
   "execution_count": 34,
   "metadata": {},
   "outputs": [],
   "source": [
    "suma = 0\n",
    "for i in range(len(data[:-1])):\n",
    "    if data[i] == data[i+1]:\n",
    "        suma = suma+int(data[i])\n",
    "if data[0] == data[-1]:\n",
    "    suma = suma+int(data[-1])"
   ]
  },
  {
   "cell_type": "code",
   "execution_count": 35,
   "metadata": {},
   "outputs": [
    {
     "data": {
      "text/plain": [
       "1182"
      ]
     },
     "execution_count": 35,
     "metadata": {},
     "output_type": "execute_result"
    }
   ],
   "source": [
    "suma"
   ]
  },
  {
   "cell_type": "markdown",
   "metadata": {},
   "source": [
    "## Challenge 2\n",
    "In this case we obtain summation of all digits such that the digit `len(data)/2` ahead (modulo `len(data)`) is equal to that one. "
   ]
  },
  {
   "cell_type": "code",
   "execution_count": 38,
   "metadata": {},
   "outputs": [
    {
     "data": {
      "text/plain": [
       "1152"
      ]
     },
     "execution_count": 38,
     "metadata": {},
     "output_type": "execute_result"
    }
   ],
   "source": [
    "suma = 0\n",
    "for i in range(len(data)):\n",
    "    j = (i+len(data)//2)%len(data)\n",
    "    if data[i] == data[j]:\n",
    "        suma = suma+int(data[i])\n",
    "suma"
   ]
  },
  {
   "cell_type": "markdown",
   "metadata": {
    "collapsed": true
   },
   "source": [
    "# Day 2\n",
    "## Challenge 1\n",
    "Find checksum of matrix"
   ]
  },
  {
   "cell_type": "code",
   "execution_count": 22,
   "metadata": {},
   "outputs": [],
   "source": [
    "f = Input(2)\n",
    "data = f.read()\n",
    "data = data.split('\\n')[:-1]\n",
    "data = [d.split('\\t') for d in data]\n",
    "data = [[int(j) for j in i] for i in data]\n",
    "f.close()"
   ]
  },
  {
   "cell_type": "code",
   "execution_count": 23,
   "metadata": {},
   "outputs": [
    {
     "name": "stdout",
     "output_type": "stream",
     "text": [
      "41919\n"
     ]
    }
   ],
   "source": [
    "chcksm = 0\n",
    "for line in data:\n",
    "    chcksm += max(line) - min(line)\n",
    "print(chcksm)"
   ]
  },
  {
   "cell_type": "markdown",
   "metadata": {},
   "source": [
    "## Challenge 2"
   ]
  },
  {
   "cell_type": "code",
   "execution_count": 25,
   "metadata": {},
   "outputs": [
    {
     "name": "stdout",
     "output_type": "stream",
     "text": [
      "303\n"
     ]
    }
   ],
   "source": [
    "chcksm = 0\n",
    "for line in data:\n",
    "    for j1 in range(len(i)): \n",
    "        for j2 in range(len(i)):\n",
    "            if j2 != j1:\n",
    "                if i[j1] % i[j2] == 0:\n",
    "                    chcksm += int(line[j1]/line[j2])\n",
    "                    break\n",
    "print(chcksm)"
   ]
  },
  {
   "cell_type": "markdown",
   "metadata": {},
   "source": [
    "# Day 3\n",
    "## Challenge 1\n",
    "Objective: Find coordinates of n-th element of a spiral defined as:\n",
    "    \n",
    "    17  16  15  14  13\n",
    "    18   5   4   3  12\n",
    "    19   6   1   2  11\n",
    "    20   7   8   9  10\n",
    "    21  22  23---> ..."
   ]
  },
  {
   "cell_type": "code",
   "execution_count": 33,
   "metadata": {},
   "outputs": [],
   "source": [
    "def nextpos(num, prevpos):  # bruteforce ftw\n",
    "    if num == 1:\n",
    "        return np.array([0,0])\n",
    "    if num == 2:\n",
    "        return np.array([1,0])\n",
    "    if prevpos[0] > abs(prevpos[1]):\n",
    "        return prevpos + np.array([0, 1])\n",
    "    elif abs(prevpos[0]) < prevpos[1] or (prevpos[0] == prevpos[1] and prevpos[0]>0):\n",
    "        return prevpos + np.array([-1, 0])\n",
    "    elif abs(prevpos[0]) > abs(prevpos[1]) or (prevpos[0] == -1*prevpos[1] and prevpos[1]>0):\n",
    "        return prevpos + np.array([0, -1])\n",
    "    else:\n",
    "        return prevpos + np.array([1, 0])\n",
    "\n",
    "def pos(num):\n",
    "    if num == 1:\n",
    "        return np.array([0,0])\n",
    "    if num == 2:\n",
    "        return np.array([1,0])\n",
    "    prevpos = pos(num-1)\n",
    "    if prevpos[0] > abs(prevpos[1]):\n",
    "        return prevpos + np.array([0, 1])\n",
    "    elif abs(prevpos[0]) < prevpos[1] or (prevpos[0] == prevpos[1] and prevpos[0]>0):\n",
    "        return prevpos + np.array([-1, 0])\n",
    "    elif abs(prevpos[0]) > abs(prevpos[1]) or (prevpos[0] == -1*prevpos[1] and prevpos[1]>0):\n",
    "        return prevpos + np.array([0, -1])\n",
    "    else:\n",
    "        return prevpos + np.array([1, 0])\n",
    "\n",
    "prevpos = np.array([0,0])\n",
    "for i in range(1, 347991):\n",
    "    prevpos = nextpos(i+1, prevpos)"
   ]
  },
  {
   "cell_type": "code",
   "execution_count": 35,
   "metadata": {},
   "outputs": [
    {
     "data": {
      "text/plain": [
       "480"
      ]
     },
     "execution_count": 35,
     "metadata": {},
     "output_type": "execute_result"
    }
   ],
   "source": [
    "cityblock_distance(prevpos)"
   ]
  },
  {
   "cell_type": "markdown",
   "metadata": {},
   "source": [
    "## Challenge 2\n",
    "Filling each of the coordinate with the sum of all adjacent coordinates (going in spiral and starting with a 1 on `[0,0]`), find what's the value of the first position with a value greater than `347991` (my puzzle input)"
   ]
  },
  {
   "cell_type": "code",
   "execution_count": 30,
   "metadata": {},
   "outputs": [
    {
     "name": "stdout",
     "output_type": "stream",
     "text": [
      "349975\n"
     ]
    }
   ],
   "source": [
    "poss = {tuple(np.array([0,0])):1}\n",
    "prevpos = np.array([0,0])\n",
    "for i in range(1,347991):\n",
    "    prevpos = nextpos(i+1, prevpos)\n",
    "    num = 0\n",
    "    for neig in neighbors8(prevpos):  # these are tuples already, fixed a typo in Norvig's functions.\n",
    "        if neig in poss:\n",
    "            num += poss[neig]\n",
    "    poss[tuple(prevpos)] = num\n",
    "    if num > 347991:\n",
    "        print(num)\n",
    "        break"
   ]
  },
  {
   "cell_type": "markdown",
   "metadata": {},
   "source": [
    "# Day 4\n",
    "## Challenge 1\n",
    "Given a list of strings find duplicates."
   ]
  },
  {
   "cell_type": "code",
   "execution_count": 18,
   "metadata": {},
   "outputs": [],
   "source": [
    "f = Input(4)\n",
    "data = f.read()\n",
    "data = data.split('\\n')[:-1]\n",
    "data = [d.split(' ') for d in data]\n",
    "f.close()"
   ]
  },
  {
   "cell_type": "code",
   "execution_count": 19,
   "metadata": {},
   "outputs": [
    {
     "data": {
      "text/plain": [
       "451"
      ]
     },
     "execution_count": 19,
     "metadata": {},
     "output_type": "execute_result"
    }
   ],
   "source": [
    "res = [any(l.count(x)>1 for x in l) for l in data]\n",
    "len(res) - sum(res)"
   ]
  },
  {
   "cell_type": "markdown",
   "metadata": {},
   "source": [
    "## Challenge 2\n",
    "Look for anagrams (need to sort strings!)"
   ]
  },
  {
   "cell_type": "code",
   "execution_count": 21,
   "metadata": {},
   "outputs": [
    {
     "data": {
      "text/plain": [
       "223"
      ]
     },
     "execution_count": 21,
     "metadata": {},
     "output_type": "execute_result"
    }
   ],
   "source": [
    "data2 = [[cat(sorted(list(x))) for x in l] for l in data]  # ''.join() = cat is not necessary, but I like it.\n",
    "res = [len(l) > len(set(l)) for l in data2]  # Same as any(l.count(x)>1 for x in l) for l in data but can be faster.\n",
    "len(res) - sum(res)"
   ]
  },
  {
   "cell_type": "markdown",
   "metadata": {},
   "source": [
    "# Day 5\n",
    "## Challenge 1\n",
    "\n",
    "We traverse a sequence $(i_0(0), ..., i_0(n-1)$ the following way:\n",
    "\\begin{align}\n",
    "&x_0 &= &0\\\\\n",
    "&x_{t+1} &= &x_t + i_t(x_t)\\\\\n",
    "&i_{t+1}(x_t) &= &i_{t}(x_t) + 1\\\\\n",
    "\\end{align}\n",
    "\n",
    "Stop if $x_{t+1} > n-1$"
   ]
  },
  {
   "cell_type": "code",
   "execution_count": 36,
   "metadata": {},
   "outputs": [],
   "source": [
    "f = Input(5)\n",
    "data = f.read()\n",
    "data = data.split('\\n')[:-1]\n",
    "data = [int(i) for i in data]\n",
    "f.close()"
   ]
  },
  {
   "cell_type": "code",
   "execution_count": 37,
   "metadata": {},
   "outputs": [
    {
     "name": "stdout",
     "output_type": "stream",
     "text": [
      "354121\n"
     ]
    }
   ],
   "source": [
    "i = 0\n",
    "nexti = 0\n",
    "step = 0\n",
    "while i < len(data):\n",
    "    nexti = i + data[i]\n",
    "    data[i] = data[i] + 1\n",
    "    i = nexti\n",
    "    step = step+1\n",
    "print(step)\n"
   ]
  },
  {
   "cell_type": "markdown",
   "metadata": {},
   "source": [
    "## Challenge 2\n",
    "\n",
    "Now $i_{t+1}(x_t) = i_t(x_t) + 1$ if $i_t(x_t) < 3$ and $i_t(x_t) - 1$ else."
   ]
  },
  {
   "cell_type": "code",
   "execution_count": 38,
   "metadata": {},
   "outputs": [],
   "source": [
    "f = Input(5)\n",
    "data = f.read()\n",
    "data = data.split('\\n')[:-1]\n",
    "data = [int(i) for i in data]\n",
    "f.close()"
   ]
  },
  {
   "cell_type": "code",
   "execution_count": 17,
   "metadata": {},
   "outputs": [
    {
     "name": "stdout",
     "output_type": "stream",
     "text": [
      "27283023\n"
     ]
    }
   ],
   "source": [
    "i = 0\n",
    "nexti = 0\n",
    "step = 0\n",
    "while i < len(data):\n",
    "    nexti = i + data[i]\n",
    "    if data[i] >= 3:\n",
    "        data[i] = data[i] - 1\n",
    "    else:\n",
    "        data[i] = data[i] + 1\n",
    "    i = nexti\n",
    "    step = step+1\n",
    "print(step)\n"
   ]
  },
  {
   "cell_type": "markdown",
   "metadata": {},
   "source": [
    "# Day 6\n",
    "## Challenge 1 and 2"
   ]
  },
  {
   "cell_type": "code",
   "execution_count": 15,
   "metadata": {},
   "outputs": [
    {
     "data": {
      "text/plain": [
       "[4, 10, 4, 1, 8, 4, 9, 14, 5, 1, 14, 15, 0, 15, 3, 5]"
      ]
     },
     "execution_count": 15,
     "metadata": {},
     "output_type": "execute_result"
    }
   ],
   "source": [
    "f = Input(6)\n",
    "data = f.read().split('\\t')\n",
    "data = [int(i) for i in data]\n",
    "f.close()\n",
    "data"
   ]
  },
  {
   "cell_type": "code",
   "execution_count": 16,
   "metadata": {},
   "outputs": [
    {
     "name": "stdout",
     "output_type": "stream",
     "text": [
      "12841\n",
      "8038\n",
      "[1, 0, 14, 14, 12, 11, 10, 9, 9, 7, 5, 5, 4, 3, 7, 1]\n"
     ]
    }
   ],
   "source": [
    "def redist(inp):\n",
    "    i = 0\n",
    "    dat = 0\n",
    "    for j in range(len(inp)):\n",
    "        if inp[j] > dat:\n",
    "            i = j\n",
    "            dat = inp[j]\n",
    "    inp[i] = 0\n",
    "    while dat > 0:\n",
    "        i = (i+1)%len(inp)\n",
    "        inp[i] += 1\n",
    "        dat -= 1\n",
    "    return inp\n",
    "\n",
    "mydict = {}\n",
    "mydict[tuple(data)] = 0\n",
    "step = 0\n",
    "while True:\n",
    "    step += 1\n",
    "    redist(data)\n",
    "    if tuple(data) in mydict:\n",
    "        break\n",
    "    else:\n",
    "        mydict[tuple(data)] = step\n",
    "print(step)\n",
    "print(step-mydict[tuple(data)])\n",
    "print(data)"
   ]
  },
  {
   "cell_type": "markdown",
   "metadata": {},
   "source": [
    "# Day 7\n",
    "## Challenge 1"
   ]
  },
  {
   "cell_type": "code",
   "execution_count": 44,
   "metadata": {},
   "outputs": [],
   "source": [
    "from anytree import Node, RenderTree, PostOrderIter"
   ]
  },
  {
   "cell_type": "code",
   "execution_count": 57,
   "metadata": {},
   "outputs": [],
   "source": [
    "f = Input(7)\n",
    "data = f.read().split('\\n')[:-1]\n",
    "data = [d.split(' -> ') for d in data]\n",
    "nodedict = {}\n",
    "for d in data:\n",
    "    daux = d[0].split(' ')\n",
    "    nodedict[daux[0]] = Node(daux[0], weight=int(daux[1][1:-1]))\n",
    "for d in data:\n",
    "    daux = d[0].split(' ')\n",
    "    if len(d) > 1:\n",
    "        for program in d[1].split(', '):\n",
    "            nodedict[program].parent = nodedict[daux[0]]\n",
    "f.close()"
   ]
  },
  {
   "cell_type": "code",
   "execution_count": 58,
   "metadata": {},
   "outputs": [
    {
     "name": "stdout",
     "output_type": "stream",
     "text": [
      "Node('/aapssr', weight=72)\n",
      "0\n"
     ]
    },
    {
     "data": {
      "text/plain": [
       "5"
      ]
     },
     "execution_count": 58,
     "metadata": {},
     "output_type": "execute_result"
    }
   ],
   "source": [
    "print(nodedict['czlmv'].root)\n",
    "root = nodedict['aapssr']\n",
    "print(root.depth)\n",
    "len(root.children)"
   ]
  },
  {
   "cell_type": "markdown",
   "metadata": {},
   "source": [
    "## Challenge 2"
   ]
  },
  {
   "cell_type": "code",
   "execution_count": 59,
   "metadata": {},
   "outputs": [
    {
     "name": "stdout",
     "output_type": "stream",
     "text": [
      "Node('/aapssr/qwada/pkowhq', weight=1187)\n",
      "[1486, 1492, 1486, 1486]\n",
      "(Node('/aapssr/qwada/pkowhq/zfrsmm', weight=763), Node('/aapssr/qwada/pkowhq/tlskukk', weight=1464), Node('/aapssr/qwada/pkowhq/fqkbscn', weight=418), Node('/aapssr/qwada/pkowhq/mlafk', weight=38))\n"
     ]
    }
   ],
   "source": [
    "def BalancedSubtowers(node):\n",
    "    if len(node.children) == 0:\n",
    "        return [0]\n",
    "    weights = [child.weight + sum(BalancedSubtowers(child)) for child in node.children]\n",
    "    return weights\n",
    "\n",
    "for node in PostOrderIter(root):\n",
    "    if len(set(BalancedSubtowers(node))) > 1:\n",
    "        print(node)\n",
    "        break\n",
    "\n",
    "print(BalancedSubtowers(nodedict['pkowhq']))\n",
    "print(nodedict['pkowhq'].children)"
   ]
  },
  {
   "cell_type": "markdown",
   "metadata": {},
   "source": [
    "# Day 8\n",
    "## Challenge 1"
   ]
  },
  {
   "cell_type": "code",
   "execution_count": 2,
   "metadata": {},
   "outputs": [],
   "source": [
    "from collections import defaultdict"
   ]
  },
  {
   "cell_type": "code",
   "execution_count": 12,
   "metadata": {},
   "outputs": [],
   "source": [
    "f = Input(8)\n",
    "data = f.read().split('\\n')[:-1]\n",
    "f.close()"
   ]
  },
  {
   "cell_type": "code",
   "execution_count": 6,
   "metadata": {},
   "outputs": [],
   "source": [
    "regs = defaultdict(lambda: 0)\n",
    "def parse(line):\n",
    "    laux = line.split(' ')\n",
    "    cond = laux[-3:]\n",
    "    cond[0] = \"regs['{}']\".format(cond[0])\n",
    "    if eval(' '.join(cond)):\n",
    "        if laux[1] == 'inc':\n",
    "            regs[laux[0]] += int(laux[2])\n",
    "        else:\n",
    "            regs[laux[0]] -= int(laux[2])\n",
    "    return 1\n"
   ]
  },
  {
   "cell_type": "code",
   "execution_count": 7,
   "metadata": {},
   "outputs": [],
   "source": [
    "for l in data:\n",
    "    parse(l)"
   ]
  },
  {
   "cell_type": "code",
   "execution_count": 10,
   "metadata": {},
   "outputs": [
    {
     "data": {
      "text/plain": [
       "3612"
      ]
     },
     "execution_count": 10,
     "metadata": {},
     "output_type": "execute_result"
    }
   ],
   "source": [
    "max(regs.values())"
   ]
  },
  {
   "cell_type": "markdown",
   "metadata": {},
   "source": [
    "## Challenge 2"
   ]
  },
  {
   "cell_type": "code",
   "execution_count": 11,
   "metadata": {},
   "outputs": [
    {
     "data": {
      "text/plain": [
       "3818"
      ]
     },
     "execution_count": 11,
     "metadata": {},
     "output_type": "execute_result"
    }
   ],
   "source": [
    "regs = defaultdict(lambda: 0)\n",
    "maxval = 0\n",
    "for l in data:\n",
    "    parse(l)\n",
    "    if max(regs.values()) > maxval:\n",
    "        maxval = max(regs.values())\n",
    "maxval"
   ]
  },
  {
   "cell_type": "markdown",
   "metadata": {},
   "source": [
    "# Day 9\n",
    "## Challenge 1 and 2"
   ]
  },
  {
   "cell_type": "code",
   "execution_count": 20,
   "metadata": {},
   "outputs": [],
   "source": [
    "f = Input(9)\n",
    "data = f.read()\n",
    "f.close()"
   ]
  },
  {
   "cell_type": "code",
   "execution_count": 22,
   "metadata": {},
   "outputs": [
    {
     "name": "stdout",
     "output_type": "stream",
     "text": [
      "10800\n",
      "4522\n"
     ]
    }
   ],
   "source": [
    "score = 0\n",
    "level = 0\n",
    "garb = 0\n",
    "garbcount = 0\n",
    "# data = \"{{<!!>},{<!!>},{<!!>},{<!!>}}\"\n",
    "i = 0\n",
    "while i < len(data):\n",
    "    if data[i] == \"!\":\n",
    "        i += 1\n",
    "    else:\n",
    "        if not garb:\n",
    "            if data[i] == \"{\":\n",
    "                level += 1\n",
    "                score += level\n",
    "            elif data[i] == \"}\":\n",
    "                level -= 1\n",
    "                if level < 0:\n",
    "                    level == 0\n",
    "            elif data[i] == \"<\":\n",
    "                garb = 1\n",
    "        else:\n",
    "            if data[i] == \">\":\n",
    "                garb = 0\n",
    "            else:\n",
    "                garbcount += 1\n",
    "    i += 1\n",
    "print(score)\n",
    "print(garbcount)"
   ]
  },
  {
   "cell_type": "markdown",
   "metadata": {},
   "source": [
    "# Day 10\n",
    "## Challenge 1"
   ]
  },
  {
   "cell_type": "code",
   "execution_count": 5,
   "metadata": {},
   "outputs": [
    {
     "data": {
      "text/plain": [
       "[197, 97, 204, 108, 1, 29, 5, 71, 0, 50, 2, 255, 248, 78, 254, 63]"
      ]
     },
     "execution_count": 5,
     "metadata": {},
     "output_type": "execute_result"
    }
   ],
   "source": [
    "f = Input(10)\n",
    "data = f.read().split(',')\n",
    "data = [int(d) for d in data]\n",
    "f.close()\n",
    "data"
   ]
  },
  {
   "cell_type": "code",
   "execution_count": 6,
   "metadata": {},
   "outputs": [
    {
     "name": "stdout",
     "output_type": "stream",
     "text": [
      "40132\n"
     ]
    }
   ],
   "source": [
    "seq = list(range(256))\n",
    "pos = 0\n",
    "sks = 0\n",
    "def myreverse(seq, i0, length):\n",
    "    nseq = []\n",
    "    for i in range(length):\n",
    "        nseq.append(seq[(i0+i)%len(seq)])\n",
    "    for i in range(length):\n",
    "        seq[(i0+i)%len(seq)] = list(reversed(nseq))[i]\n",
    "for l in data:\n",
    "    myreverse(seq, pos, l)\n",
    "    pos = (pos + l +sks)%len(seq)\n",
    "    sks += 1\n",
    "print(seq[0]*seq[1])"
   ]
  },
  {
   "cell_type": "markdown",
   "metadata": {},
   "source": [
    "## Challenge 2"
   ]
  },
  {
   "cell_type": "code",
   "execution_count": 7,
   "metadata": {},
   "outputs": [],
   "source": [
    "f = Input(10)\n",
    "data = f.read()[:-1]\n",
    "data = [ord(d) for d in data]\n",
    "f.close()\n",
    "data = data + [17, 31, 73, 47, 23]"
   ]
  },
  {
   "cell_type": "code",
   "execution_count": 10,
   "metadata": {},
   "outputs": [
    {
     "data": {
      "text/plain": [
       "'35b028fe2c958793f7d5a61d07a008c8'"
      ]
     },
     "execution_count": 10,
     "metadata": {},
     "output_type": "execute_result"
    }
   ],
   "source": [
    "import functools\n",
    "seq = list(range(256))\n",
    "pos = 0\n",
    "sks = 0\n",
    "for i in range(64):\n",
    "    for l in data:\n",
    "        myreverse(seq, pos, l)\n",
    "        pos = (pos + l +sks)%len(seq)\n",
    "        sks += 1\n",
    "dhash = []\n",
    "c = \"\"\n",
    "for i in range(16):\n",
    "    dhash += [functools.reduce(lambda a, b: a^b, seq[16*i:16*(i+1)])]\n",
    "    c+=format(dhash[i],'02x')\n",
    "\n",
    "c"
   ]
  },
  {
   "cell_type": "code",
   "execution_count": 34,
   "metadata": {},
   "outputs": [
    {
     "data": {
      "text/plain": [
       "'\\x10'"
      ]
     },
     "execution_count": 34,
     "metadata": {},
     "output_type": "execute_result"
    }
   ],
   "source": [
    "chr(16)"
   ]
  },
  {
   "cell_type": "code",
   "execution_count": 49,
   "metadata": {},
   "outputs": [
    {
     "data": {
      "text/plain": [
       "64"
      ]
     },
     "execution_count": 49,
     "metadata": {},
     "output_type": "execute_result"
    }
   ],
   "source": [
    "aux = [65, 27, 9, 1, 4, 3, 40, 50, 91, 7, 6, 0, 2, 5, 68, 22]\n",
    "functools.reduce(lambda a, b: a^b, aux)"
   ]
  },
  {
   "cell_type": "markdown",
   "metadata": {},
   "source": [
    "# Day 11\n",
    "## Challenge 1\n",
    "\n",
    "Learned hex coordinates from [this](https://www.redblobgames.com/grids/hexagons/)"
   ]
  },
  {
   "cell_type": "code",
   "execution_count": 5,
   "metadata": {},
   "outputs": [
    {
     "name": "stdout",
     "output_type": "stream",
     "text": [
      "812.0\n",
      "1603.0\n"
     ]
    }
   ],
   "source": [
    "\n",
    "# Copied from reddit, originally used A* with complex numbers, this is much more elegant (learned about hex grids)\n",
    "\n",
    "f = Input(11)\n",
    "data = f.read()[:-1].split(',')\n",
    "x = 0\n",
    "y = 0\n",
    "z = 0\n",
    "f.close()\n",
    "dists = []\n",
    "\n",
    "for d in data:\n",
    "    if d == \"n\":\n",
    "        y += 1\n",
    "        z -= 1\n",
    "    elif d == \"s\":\n",
    "        y -= 1\n",
    "        z += 1\n",
    "    elif d == \"ne\":\n",
    "        x += 1\n",
    "        z -= 1\n",
    "    elif d == \"sw\":\n",
    "        x -= 1\n",
    "        z += 1\n",
    "    elif d == \"nw\":\n",
    "        x -= 1\n",
    "        y += 1\n",
    "    elif d == \"se\":\n",
    "        x += 1\n",
    "        y -= 1\n",
    "    dists.append((abs(x) + abs(y) + abs(z)) / 2)\n",
    "\n",
    "print ((abs(x) + abs(y) + abs(z)) / 2)\n",
    "print(max(dists))\n",
    "# Hex coordinates are cool."
   ]
  },
  {
   "cell_type": "markdown",
   "metadata": {},
   "source": [
    "# Day 12\n",
    "## Challenge 1"
   ]
  },
  {
   "cell_type": "code",
   "execution_count": 10,
   "metadata": {},
   "outputs": [
    {
     "data": {
      "text/plain": [
       "{0: [454, 528, 621, 1023, 1199],\n",
       " 1: [1335, 1563, 1627, 1679],\n",
       " 2: [353, 689],\n",
       " 3: [3, 1171],\n",
       " 4: [1247],\n",
       " 5: [758, 928, 1260],\n",
       " 6: [1010],\n",
       " 7: [570],\n",
       " 8: [710, 1610],\n",
       " 9: [9],\n",
       " 10: [10, 1822],\n",
       " 11: [473],\n",
       " 12: [255, 1355, 1999],\n",
       " 13: [13, 1026],\n",
       " 14: [113],\n",
       " 15: [1954],\n",
       " 16: [679, 918],\n",
       " 17: [1101, 1637],\n",
       " 18: [574, 1037],\n",
       " 19: [481],\n",
       " 20: [22, 815, 963, 1031],\n",
       " 21: [1427],\n",
       " 22: [20, 316, 802],\n",
       " 23: [1328, 1447, 1708],\n",
       " 24: [446, 1677],\n",
       " 25: [25, 217],\n",
       " 26: [184, 1138],\n",
       " 27: [142],\n",
       " 28: [1340],\n",
       " 29: [954, 1174],\n",
       " 30: [1185],\n",
       " 31: [112, 1111],\n",
       " 32: [1851],\n",
       " 33: [662],\n",
       " 34: [848],\n",
       " 35: [315, 1983],\n",
       " 36: [239],\n",
       " 37: [422, 871, 1903],\n",
       " 38: [1450, 1497],\n",
       " 39: [923, 1652],\n",
       " 40: [201, 434],\n",
       " 41: [1878],\n",
       " 42: [192, 1233],\n",
       " 43: [1457],\n",
       " 44: [499, 961],\n",
       " 45: [1056],\n",
       " 46: [302],\n",
       " 47: [100, 1921],\n",
       " 48: [1532],\n",
       " 49: [728, 1028, 1201, 1301],\n",
       " 50: [1662],\n",
       " 51: [1186, 1773],\n",
       " 52: [228, 1168, 1873],\n",
       " 53: [413, 1111],\n",
       " 54: [956],\n",
       " 55: [477],\n",
       " 56: [98],\n",
       " 57: [1849, 1960],\n",
       " 58: [440],\n",
       " 59: [1115, 1389],\n",
       " 60: [358, 499, 1392, 1582],\n",
       " 61: [1704],\n",
       " 62: [425],\n",
       " 63: [1562, 1593],\n",
       " 64: [916],\n",
       " 65: [1842, 1951],\n",
       " 66: [1991],\n",
       " 67: [1026],\n",
       " 68: [711],\n",
       " 69: [854],\n",
       " 70: [114, 1591],\n",
       " 71: [1423],\n",
       " 72: [1403],\n",
       " 73: [170],\n",
       " 74: [508, 831],\n",
       " 75: [231, 1070, 1384, 1615],\n",
       " 76: [751],\n",
       " 77: [1190, 1421],\n",
       " 78: [78, 1593],\n",
       " 79: [221, 742, 1165],\n",
       " 80: [1517],\n",
       " 81: [1154],\n",
       " 82: [310, 1027, 1358],\n",
       " 83: [83, 1554],\n",
       " 84: [743, 1208],\n",
       " 85: [504, 1723],\n",
       " 86: [1630],\n",
       " 87: [919],\n",
       " 88: [794],\n",
       " 89: [1334],\n",
       " 90: [1997],\n",
       " 91: [494],\n",
       " 92: [1210],\n",
       " 93: [1619],\n",
       " 94: [324, 1183, 1876],\n",
       " 95: [300],\n",
       " 96: [127, 1849],\n",
       " 97: [733],\n",
       " 98: [56, 534],\n",
       " 99: [1028],\n",
       " 100: [47, 402],\n",
       " 101: [1053],\n",
       " 102: [201, 498, 1016],\n",
       " 103: [103, 1412],\n",
       " 104: [105],\n",
       " 105: [104, 608, 681],\n",
       " 106: [106, 1605],\n",
       " 107: [468, 1798],\n",
       " 108: [1810],\n",
       " 109: [789, 1300],\n",
       " 110: [348, 550],\n",
       " 111: [111],\n",
       " 112: [31],\n",
       " 113: [14, 136],\n",
       " 114: [70, 132, 183, 847],\n",
       " 115: [1086, 1409],\n",
       " 116: [1220],\n",
       " 117: [1047, 1886],\n",
       " 118: [729],\n",
       " 119: [119],\n",
       " 120: [198],\n",
       " 121: [1020, 1547],\n",
       " 122: [891, 1241],\n",
       " 123: [842, 866],\n",
       " 124: [124, 1676],\n",
       " 125: [1959],\n",
       " 126: [895],\n",
       " 127: [96],\n",
       " 128: [664, 1170],\n",
       " 129: [392, 1222],\n",
       " 130: [1483, 1744],\n",
       " 131: [1696],\n",
       " 132: [114],\n",
       " 133: [192],\n",
       " 134: [134],\n",
       " 135: [1696],\n",
       " 136: [113, 803, 1064],\n",
       " 137: [1738],\n",
       " 138: [1486],\n",
       " 139: [1811],\n",
       " 140: [663, 1355, 1832],\n",
       " 141: [226, 803],\n",
       " 142: [27, 417],\n",
       " 143: [486, 1441],\n",
       " 144: [768, 850],\n",
       " 145: [180, 669, 1935],\n",
       " 146: [1242],\n",
       " 147: [345, 1782],\n",
       " 148: [1295, 1710],\n",
       " 149: [1349],\n",
       " 150: [697],\n",
       " 151: [834],\n",
       " 152: [152, 365],\n",
       " 153: [654, 720],\n",
       " 154: [1396, 1538],\n",
       " 155: [804, 1891],\n",
       " 156: [653, 1679],\n",
       " 157: [302, 1108],\n",
       " 158: [415, 680, 1668],\n",
       " 159: [979, 1116, 1449],\n",
       " 160: [463, 1627, 1769],\n",
       " 161: [161, 232, 446, 874],\n",
       " 162: [162, 527],\n",
       " 163: [1760],\n",
       " 164: [259, 750],\n",
       " 165: [211, 945, 1022, 1069, 1071],\n",
       " 166: [293],\n",
       " 167: [178, 522],\n",
       " 168: [301, 408, 622],\n",
       " 169: [466, 1485, 1848],\n",
       " 170: [73, 1028, 1761],\n",
       " 171: [525, 755, 1219],\n",
       " 172: [313, 476, 1383],\n",
       " 173: [1629],\n",
       " 174: [1795, 1977],\n",
       " 175: [553, 1001],\n",
       " 176: [1330],\n",
       " 177: [375, 1013],\n",
       " 178: [167],\n",
       " 179: [1091, 1295],\n",
       " 180: [145, 979, 1151],\n",
       " 181: [803, 1107],\n",
       " 182: [805, 872, 1366, 1894],\n",
       " 183: [114, 685, 1252, 1508],\n",
       " 184: [26],\n",
       " 185: [402],\n",
       " 186: [1748],\n",
       " 187: [744, 971],\n",
       " 188: [504],\n",
       " 189: [814],\n",
       " 190: [948],\n",
       " 191: [506, 714],\n",
       " 192: [42, 133, 854, 1152, 1250],\n",
       " 193: [193],\n",
       " 194: [1960],\n",
       " 195: [382, 1551],\n",
       " 196: [1759],\n",
       " 197: [197],\n",
       " 198: [120, 1070],\n",
       " 199: [659, 1161],\n",
       " 200: [875, 1572, 1819],\n",
       " 201: [40, 102, 898, 1307],\n",
       " 202: [436],\n",
       " 203: [418, 771],\n",
       " 204: [1114, 1224],\n",
       " 205: [1011, 1979],\n",
       " 206: [206, 882],\n",
       " 207: [238],\n",
       " 208: [1681],\n",
       " 209: [1406],\n",
       " 210: [1376],\n",
       " 211: [165, 1153, 1916],\n",
       " 212: [677],\n",
       " 213: [915],\n",
       " 214: [1280],\n",
       " 215: [533],\n",
       " 216: [626, 731],\n",
       " 217: [25, 325],\n",
       " 218: [1338],\n",
       " 219: [596, 779],\n",
       " 220: [339],\n",
       " 221: [79, 620],\n",
       " 222: [775, 1144],\n",
       " 223: [439],\n",
       " 224: [1825],\n",
       " 225: [225],\n",
       " 226: [141, 311],\n",
       " 227: [1335],\n",
       " 228: [52, 1861],\n",
       " 229: [578, 727, 1085],\n",
       " 230: [1036],\n",
       " 231: [75, 766, 1386],\n",
       " 232: [161],\n",
       " 233: [953],\n",
       " 234: [891],\n",
       " 235: [1067],\n",
       " 236: [419],\n",
       " 237: [237],\n",
       " 238: [207, 1687],\n",
       " 239: [36, 1357],\n",
       " 240: [1602],\n",
       " 241: [241, 511, 960],\n",
       " 242: [888, 1498, 1556],\n",
       " 243: [1243, 1418, 1717],\n",
       " 244: [364, 753],\n",
       " 245: [643, 807],\n",
       " 246: [1653],\n",
       " 247: [1446, 1902],\n",
       " 248: [1164, 1743],\n",
       " 249: [645, 669],\n",
       " 250: [556],\n",
       " 251: [390, 1973],\n",
       " 252: [956],\n",
       " 253: [1149, 1574],\n",
       " 254: [560, 1454, 1826],\n",
       " 255: [12, 1214],\n",
       " 256: [314, 820, 1087],\n",
       " 257: [700, 1540, 1986],\n",
       " 258: [258],\n",
       " 259: [164],\n",
       " 260: [1274],\n",
       " 261: [1385],\n",
       " 262: [765],\n",
       " 263: [1231, 1509],\n",
       " 264: [586],\n",
       " 265: [586, 748, 1186],\n",
       " 266: [1046, 1418],\n",
       " 267: [877, 1572],\n",
       " 268: [1370, 1688, 1980],\n",
       " 269: [782, 1610],\n",
       " 270: [789, 1052, 1102],\n",
       " 271: [1787],\n",
       " 272: [1076],\n",
       " 273: [303, 1549],\n",
       " 274: [353],\n",
       " 275: [360],\n",
       " 276: [717],\n",
       " 277: [1955],\n",
       " 278: [876, 890, 1311, 1920],\n",
       " 279: [279, 515],\n",
       " 280: [292, 1067, 1345],\n",
       " 281: [1525, 1728],\n",
       " 282: [1211],\n",
       " 283: [1053],\n",
       " 284: [312, 1647],\n",
       " 285: [1534],\n",
       " 286: [1738],\n",
       " 287: [517, 1402],\n",
       " 288: [514],\n",
       " 289: [462, 915, 1401],\n",
       " 290: [700, 1428, 1834],\n",
       " 291: [1115, 1473],\n",
       " 292: [280, 1185],\n",
       " 293: [166, 564],\n",
       " 294: [320, 1906],\n",
       " 295: [850, 1276],\n",
       " 296: [1843],\n",
       " 297: [544],\n",
       " 298: [1208, 1399],\n",
       " 299: [577],\n",
       " 300: [95, 421, 794],\n",
       " 301: [168, 933],\n",
       " 302: [46, 157, 1844],\n",
       " 303: [273],\n",
       " 304: [496],\n",
       " 305: [1493],\n",
       " 306: [736, 1316, 1622],\n",
       " 307: [1495],\n",
       " 308: [1286, 1357],\n",
       " 309: [309, 1764],\n",
       " 310: [82],\n",
       " 311: [226],\n",
       " 312: [284, 514, 845, 1476],\n",
       " 313: [172, 361, 1663],\n",
       " 314: [256, 809],\n",
       " 315: [35, 1043],\n",
       " 316: [22],\n",
       " 317: [1418, 1643],\n",
       " 318: [404, 1032, 1452, 1534],\n",
       " 319: [841],\n",
       " 320: [294, 949],\n",
       " 321: [699, 925, 1274, 1700],\n",
       " 322: [458, 1124, 1549],\n",
       " 323: [323],\n",
       " 324: [94, 1425, 1655],\n",
       " 325: [217],\n",
       " 326: [843, 1994],\n",
       " 327: [327, 1556, 1952],\n",
       " 328: [405, 1081],\n",
       " 329: [329, 388],\n",
       " 330: [369, 1084, 1846],\n",
       " 331: [1700],\n",
       " 332: [1772, 1973],\n",
       " 333: [695, 1639],\n",
       " 334: [703, 932],\n",
       " 335: [335],\n",
       " 336: [668, 1005],\n",
       " 337: [702, 743],\n",
       " 338: [517],\n",
       " 339: [220, 339, 716, 773, 1132, 1924],\n",
       " 340: [362, 1841],\n",
       " 341: [885, 1034, 1325],\n",
       " 342: [360, 1446],\n",
       " 343: [343],\n",
       " 344: [1017],\n",
       " 345: [147, 1458],\n",
       " 346: [1089],\n",
       " 347: [925, 1774],\n",
       " 348: [110, 1282, 1884],\n",
       " 349: [551],\n",
       " 350: [1630],\n",
       " 351: [714],\n",
       " 352: [619, 1926],\n",
       " 353: [2, 274, 1824],\n",
       " 354: [1459, 1854],\n",
       " 355: [355],\n",
       " 356: [399, 1251, 1600],\n",
       " 357: [466, 1818, 1825],\n",
       " 358: [60, 358],\n",
       " 359: [570],\n",
       " 360: [275, 342, 1768],\n",
       " 361: [313, 361, 1303],\n",
       " 362: [340, 580, 747, 1433],\n",
       " 363: [1678],\n",
       " 364: [244, 494],\n",
       " 365: [152],\n",
       " 366: [874],\n",
       " 367: [367, 735, 1139],\n",
       " 368: [459],\n",
       " 369: [330],\n",
       " 370: [881],\n",
       " 371: [1133, 1213, 1438],\n",
       " 372: [1290, 1963],\n",
       " 373: [846, 1829],\n",
       " 374: [780, 996],\n",
       " 375: [177, 1126, 1223],\n",
       " 376: [474, 1467],\n",
       " 377: [1485, 1544],\n",
       " 378: [1105, 1815, 1895],\n",
       " 379: [507, 1936],\n",
       " 380: [529, 806, 1654],\n",
       " 381: [1306, 1606],\n",
       " 382: [195, 676, 736, 1268],\n",
       " 383: [383, 624, 1379],\n",
       " 384: [384, 856],\n",
       " 385: [1463],\n",
       " 386: [495, 629, 1578],\n",
       " 387: [836, 1670],\n",
       " 388: [329],\n",
       " 389: [488, 1477, 1866],\n",
       " 390: [251],\n",
       " 391: [391],\n",
       " 392: [129, 828, 1877],\n",
       " 393: [1436],\n",
       " 394: [1495],\n",
       " 395: [776, 879],\n",
       " 396: [793, 1298],\n",
       " 397: [523, 1192, 1693, 1712],\n",
       " 398: [398],\n",
       " 399: [356, 399, 1499],\n",
       " 400: [400, 1104],\n",
       " 401: [1039],\n",
       " 402: [100, 185, 1600],\n",
       " 403: [706, 1550],\n",
       " 404: [318, 1374, 1697],\n",
       " 405: [328, 1511],\n",
       " 406: [602, 905],\n",
       " 407: [407, 1910],\n",
       " 408: [168, 1120, 1584],\n",
       " 409: [1945],\n",
       " 410: [1763],\n",
       " 411: [1915],\n",
       " 412: [448, 1486],\n",
       " 413: [53, 681],\n",
       " 414: [414],\n",
       " 415: [158],\n",
       " 416: [848, 1051],\n",
       " 417: [142, 1717],\n",
       " 418: [203, 1226, 1537],\n",
       " 419: [236, 1144],\n",
       " 420: [1027, 1793],\n",
       " 421: [300, 671, 705],\n",
       " 422: [37],\n",
       " 423: [1013, 1607],\n",
       " 424: [424, 437, 1332],\n",
       " 425: [62, 774],\n",
       " 426: [426, 1359],\n",
       " 427: [1373],\n",
       " 428: [718],\n",
       " 429: [429, 1940],\n",
       " 430: [1410],\n",
       " 431: [554, 1941],\n",
       " 432: [1845],\n",
       " 433: [718, 1630],\n",
       " 434: [40, 1780],\n",
       " 435: [650],\n",
       " 436: [202, 1467, 1853],\n",
       " 437: [424],\n",
       " 438: [680, 1018, 1538],\n",
       " 439: [223, 1042, 1397],\n",
       " 440: [58, 1860],\n",
       " 441: [1138],\n",
       " 442: [640, 723, 1322],\n",
       " 443: [492, 958, 1736],\n",
       " 444: [444],\n",
       " 445: [533, 1530],\n",
       " 446: [24, 161, 1735, 1892, 1898],\n",
       " 447: [1998],\n",
       " 448: [412, 1266],\n",
       " 449: [972, 1397],\n",
       " 450: [732, 1147],\n",
       " 451: [1339, 1435, 1729],\n",
       " 452: [520],\n",
       " 453: [1810],\n",
       " 454: [0],\n",
       " 455: [1677],\n",
       " 456: [1915],\n",
       " 457: [1024, 1790],\n",
       " 458: [322],\n",
       " 459: [368, 1181],\n",
       " 460: [460],\n",
       " 461: [1181],\n",
       " 462: [289, 557, 1804],\n",
       " 463: [160],\n",
       " 464: [822, 1330],\n",
       " 465: [658],\n",
       " 466: [169, 357, 1248],\n",
       " 467: [467, 1278],\n",
       " 468: [107],\n",
       " 469: [1480],\n",
       " 470: [1503],\n",
       " 471: [1376, 1717],\n",
       " 472: [1835],\n",
       " 473: [11, 597],\n",
       " 474: [376, 687, 1478, 1730],\n",
       " 475: [701, 866],\n",
       " 476: [172],\n",
       " 477: [55, 1985],\n",
       " 478: [478],\n",
       " 479: [843, 1333, 1555],\n",
       " 480: [609, 712],\n",
       " 481: [19, 591, 1141],\n",
       " 482: [1698, 1883],\n",
       " 483: [664],\n",
       " 484: [1367, 1965],\n",
       " 485: [534, 1276],\n",
       " 486: [143, 1380, 1757],\n",
       " 487: [487],\n",
       " 488: [389],\n",
       " 489: [572],\n",
       " 490: [1053, 1465],\n",
       " 491: [840, 1074],\n",
       " 492: [443, 1728],\n",
       " 493: [631],\n",
       " 494: [91, 364],\n",
       " 495: [386, 1273, 1726, 1838],\n",
       " 496: [304, 772],\n",
       " 497: [572],\n",
       " 498: [102],\n",
       " 499: [44, 60],\n",
       " 500: [1078],\n",
       " 501: [642],\n",
       " 502: [561, 587, 686, 816, 1905],\n",
       " 503: [956, 1614],\n",
       " 504: [85, 188, 518, 790, 1891],\n",
       " 505: [1444],\n",
       " 506: [191],\n",
       " 507: [379, 1892],\n",
       " 508: [74, 1522],\n",
       " 509: [1429, 1863],\n",
       " 510: [510],\n",
       " 511: [241, 1797],\n",
       " 512: [1487],\n",
       " 513: [1280, 1997],\n",
       " 514: [288, 312, 1699],\n",
       " 515: [279, 1532],\n",
       " 516: [516, 1714],\n",
       " 517: [287, 338, 1364],\n",
       " 518: [504, 1852],\n",
       " 519: [762],\n",
       " 520: [452, 666, 1139],\n",
       " 521: [862, 1492],\n",
       " 522: [167, 616, 1644, 1956],\n",
       " 523: [397, 568],\n",
       " 524: [1038, 1896],\n",
       " 525: [171, 1239, 1847],\n",
       " 526: [1272, 1907],\n",
       " 527: [162, 1966],\n",
       " 528: [0, 1623],\n",
       " 529: [380],\n",
       " 530: [1479],\n",
       " 531: [1529],\n",
       " 532: [1085, 1939],\n",
       " 533: [215, 445, 1422, 1597],\n",
       " 534: [98, 485, 1337, 1960],\n",
       " 535: [880],\n",
       " 536: [1518],\n",
       " 537: [1009, 1274],\n",
       " 538: [1535, 1620],\n",
       " 539: [1971],\n",
       " 540: [540],\n",
       " 541: [565],\n",
       " 542: [1679],\n",
       " 543: [1374],\n",
       " 544: [297, 740],\n",
       " 545: [1461],\n",
       " 546: [546],\n",
       " 547: [547, 1019],\n",
       " 548: [1436],\n",
       " 549: [1589, 1980],\n",
       " 550: [110, 573],\n",
       " 551: [349, 1555],\n",
       " 552: [1725],\n",
       " 553: [175, 553, 1410],\n",
       " 554: [431, 776, 897],\n",
       " 555: [1859],\n",
       " 556: [250, 875],\n",
       " 557: [462, 998, 1124],\n",
       " 558: [1409],\n",
       " 559: [912],\n",
       " 560: [254],\n",
       " 561: [502, 561],\n",
       " 562: [1679],\n",
       " 563: [1299],\n",
       " 564: [293, 1259],\n",
       " 565: [541, 1312, 1441, 1913],\n",
       " 566: [1907],\n",
       " 567: [1159],\n",
       " 568: [523],\n",
       " 569: [1873],\n",
       " 570: [7, 359, 869],\n",
       " 571: [1752, 1779],\n",
       " 572: [489, 497, 811, 953],\n",
       " 573: [550],\n",
       " 574: [18, 1238],\n",
       " 575: [1771],\n",
       " 576: [1442, 1630],\n",
       " 577: [299, 1453],\n",
       " 578: [229, 1142, 1868],\n",
       " 579: [1878, 1977],\n",
       " 580: [362],\n",
       " 581: [1811],\n",
       " 582: [1675],\n",
       " 583: [765, 1632],\n",
       " 584: [983],\n",
       " 585: [1201],\n",
       " 586: [264, 265],\n",
       " 587: [502, 1680, 1968],\n",
       " 588: [616],\n",
       " 589: [1354, 1575],\n",
       " 590: [1106],\n",
       " 591: [481, 1179],\n",
       " 592: [1946],\n",
       " 593: [733, 1670],\n",
       " 594: [1129, 1271],\n",
       " 595: [1280],\n",
       " 596: [219, 1168],\n",
       " 597: [473, 876],\n",
       " 598: [1089],\n",
       " 599: [1334],\n",
       " 600: [1308],\n",
       " 601: [604, 870, 1817, 1946],\n",
       " 602: [406, 1369],\n",
       " 603: [1442],\n",
       " 604: [601],\n",
       " 605: [862],\n",
       " 606: [1355],\n",
       " 607: [1157],\n",
       " 608: [105],\n",
       " 609: [480, 756],\n",
       " 610: [1040, 1657],\n",
       " 611: [987, 1259],\n",
       " 612: [612, 1672],\n",
       " 613: [613, 1631],\n",
       " 614: [1602, 1795],\n",
       " 615: [646, 894],\n",
       " 616: [522, 588, 850],\n",
       " 617: [617, 1254],\n",
       " 618: [1352],\n",
       " 619: [352, 1855],\n",
       " 620: [221, 620],\n",
       " 621: [0],\n",
       " 622: [168, 1373],\n",
       " 623: [700],\n",
       " 624: [383],\n",
       " 625: [1321, 1343],\n",
       " 626: [216],\n",
       " 627: [1034],\n",
       " 628: [1271],\n",
       " 629: [386, 1172, 1973],\n",
       " 630: [1544, 1954],\n",
       " 631: [493, 1334],\n",
       " 632: [1375, 1491],\n",
       " 633: [1456],\n",
       " 634: [1982],\n",
       " 635: [924, 1054, 1617],\n",
       " 636: [825],\n",
       " 637: [1653],\n",
       " 638: [1098, 1321, 1404, 1790],\n",
       " 639: [639],\n",
       " 640: [442, 640, 1507],\n",
       " 641: [1519],\n",
       " 642: [501, 1401],\n",
       " 643: [245],\n",
       " 644: [714, 1348],\n",
       " 645: [249, 1329],\n",
       " 646: [615, 1733],\n",
       " 647: [1912],\n",
       " 648: [1598],\n",
       " 649: [933],\n",
       " 650: [435, 1895],\n",
       " 651: [1537],\n",
       " 652: [652, 1240, 1879],\n",
       " 653: [156, 1920],\n",
       " 654: [153, 1749],\n",
       " 655: [1248],\n",
       " 656: [700, 919, 1118, 1969],\n",
       " 657: [657, 1851],\n",
       " 658: [465, 1474],\n",
       " 659: [199, 818, 920],\n",
       " 660: [660],\n",
       " 661: [745],\n",
       " 662: [33, 1115, 1978],\n",
       " 663: [140, 1726],\n",
       " 664: [128, 483, 1780],\n",
       " 665: [1520],\n",
       " 666: [520],\n",
       " 667: [806],\n",
       " 668: [336, 934],\n",
       " 669: [145, 249, 1846],\n",
       " 670: [819, 1526, 1802],\n",
       " 671: [421],\n",
       " 672: [1870],\n",
       " 673: [931, 1018, 1211],\n",
       " 674: [1627],\n",
       " 675: [675],\n",
       " 676: [382, 819],\n",
       " 677: [212, 1163],\n",
       " 678: [733],\n",
       " 679: [16, 1149, 1402, 1959],\n",
       " 680: [158, 438, 886],\n",
       " 681: [105, 413, 1385],\n",
       " 682: [1309],\n",
       " 683: [1539],\n",
       " 684: [1034, 1520, 1801, 1927],\n",
       " 685: [183],\n",
       " 686: [502],\n",
       " 687: [474],\n",
       " 688: [786],\n",
       " 689: [2, 1671],\n",
       " 690: [1673, 1946],\n",
       " 691: [1732],\n",
       " 692: [1853],\n",
       " 693: [1230],\n",
       " 694: [694, 1823],\n",
       " 695: [333],\n",
       " 696: [1214],\n",
       " 697: [150, 697],\n",
       " 698: [1181],\n",
       " 699: [321, 1292, 1480],\n",
       " 700: [257, 290, 623, 656],\n",
       " 701: [475, 1205],\n",
       " 702: [337, 1597],\n",
       " 703: [334],\n",
       " 704: [912, 989, 1613],\n",
       " 705: [421, 849, 1215, 1270],\n",
       " 706: [403, 1648],\n",
       " 707: [1396],\n",
       " 708: [1081, 1687],\n",
       " 709: [1237],\n",
       " 710: [8, 826, 926, 1685],\n",
       " 711: [68, 711],\n",
       " 712: [480],\n",
       " 713: [1438, 1461, 1824, 1996],\n",
       " 714: [191, 351, 644],\n",
       " 715: [1058, 1875],\n",
       " 716: [339],\n",
       " 717: [276, 983, 1582, 1888],\n",
       " 718: [428, 433, 1227, 1239],\n",
       " 719: [1339, 1341],\n",
       " 720: [153, 1101, 1411],\n",
       " 721: [754, 878, 1794],\n",
       " 722: [1255, 1862],\n",
       " 723: [442, 760, 896],\n",
       " 724: [1033],\n",
       " 725: [1115],\n",
       " 726: [825, 1562],\n",
       " 727: [229, 994],\n",
       " 728: [49, 752, 947, 1589],\n",
       " 729: [118, 759, 985, 1070, 1760],\n",
       " 730: [1072],\n",
       " 731: [216, 1755],\n",
       " 732: [450, 1264],\n",
       " 733: [97, 593, 678, 1259],\n",
       " 734: [1099, 1531, 1811],\n",
       " 735: [367, 1586],\n",
       " 736: [306, 382, 1625],\n",
       " 737: [1886],\n",
       " 738: [1991],\n",
       " 739: [1684, 1827],\n",
       " 740: [544, 1539, 1694, 1737],\n",
       " 741: [741],\n",
       " 742: [79],\n",
       " 743: [84, 337, 743],\n",
       " 744: [187, 1992],\n",
       " 745: [661, 1266, 1856],\n",
       " 746: [1674],\n",
       " 747: [362, 1383],\n",
       " 748: [265, 1429],\n",
       " 749: [1299],\n",
       " 750: [164, 1216, 1336, 1469, 1734],\n",
       " 751: [76, 1011],\n",
       " 752: [728],\n",
       " 753: [244, 803],\n",
       " 754: [721, 1890],\n",
       " 755: [171],\n",
       " 756: [609, 1470, 1934],\n",
       " 757: [1098, 1885],\n",
       " 758: [5],\n",
       " 759: [729, 1092, 1363],\n",
       " 760: [723, 946],\n",
       " 761: [1321, 1704],\n",
       " 762: [519, 1317, 1776],\n",
       " 763: [1693],\n",
       " 764: [1093],\n",
       " 765: [262, 583, 1250, 1545, 1642],\n",
       " 766: [231],\n",
       " 767: [835, 1395],\n",
       " 768: [144],\n",
       " 769: [984],\n",
       " 770: [1232],\n",
       " 771: [203],\n",
       " 772: [496, 1437],\n",
       " 773: [339],\n",
       " 774: [425, 774, 1015],\n",
       " 775: [222],\n",
       " 776: [395, 554],\n",
       " 777: [1278],\n",
       " 778: [778, 991, 1062],\n",
       " 779: [219, 1993],\n",
       " 780: [374],\n",
       " 781: [917, 1716, 1929, 1962],\n",
       " 782: [269],\n",
       " 783: [1381],\n",
       " 784: [1075, 1790, 1965],\n",
       " 785: [914, 1504],\n",
       " 786: [688, 1319, 1440, 1771, 1981],\n",
       " 787: [1161, 1750],\n",
       " 788: [1279, 1632],\n",
       " 789: [109, 270, 853, 865, 1806, 1840],\n",
       " 790: [504],\n",
       " 791: [791],\n",
       " 792: [1041],\n",
       " 793: [396, 1562, 1827],\n",
       " 794: [88, 300, 817],\n",
       " 795: [956],\n",
       " 796: [1323, 1816],\n",
       " 797: [921, 1331],\n",
       " 798: [1621],\n",
       " 799: [1871],\n",
       " 800: [800],\n",
       " 801: [1608, 1823],\n",
       " 802: [22, 1326],\n",
       " 803: [136, 141, 181, 753, 1082, 1374],\n",
       " 804: [155, 1252, 1487],\n",
       " 805: [182],\n",
       " 806: [380, 667, 1623],\n",
       " 807: [245, 844, 1564, 1567, 1724],\n",
       " 808: [1193],\n",
       " 809: [314, 1033, 1333],\n",
       " 810: [1643],\n",
       " 811: [572],\n",
       " 812: [812, 1681, 1799],\n",
       " 813: [1726],\n",
       " 814: [189, 1861, 1912],\n",
       " 815: [20, 939],\n",
       " 816: [502],\n",
       " 817: [794],\n",
       " 818: [659, 1488],\n",
       " 819: [670, 676],\n",
       " 820: [256],\n",
       " 821: [821],\n",
       " 822: [464, 997, 1338],\n",
       " 823: [823],\n",
       " 824: [1016],\n",
       " 825: [636, 726, 1988],\n",
       " 826: [710, 1060, 1576],\n",
       " 827: [1027, 1214],\n",
       " 828: [392],\n",
       " 829: [829],\n",
       " 830: [1504, 1532],\n",
       " 831: [74],\n",
       " 832: [1730],\n",
       " 833: [944, 1778, 1980],\n",
       " 834: [151, 862],\n",
       " 835: [767, 1755],\n",
       " 836: [387, 1202, 1256],\n",
       " 837: [871, 1233],\n",
       " 838: [1028, 1246],\n",
       " 839: [1158, 1468],\n",
       " 840: [491],\n",
       " 841: [319, 841],\n",
       " 842: [123, 1759],\n",
       " 843: [326, 479],\n",
       " 844: [807],\n",
       " 845: [312],\n",
       " 846: [373, 1541, 1550],\n",
       " 847: [114, 1533, 1614],\n",
       " 848: [34, 416, 1116, 1391],\n",
       " 849: [705, 870],\n",
       " 850: [144, 295, 616, 1466, 1746],\n",
       " 851: [1169, 1329],\n",
       " 852: [1796, 1912],\n",
       " 853: [789],\n",
       " 854: [69, 192],\n",
       " 855: [1089],\n",
       " 856: [384, 1007],\n",
       " 857: [1720],\n",
       " 858: [1338],\n",
       " 859: [1338, 1822],\n",
       " 860: [1028, 1334],\n",
       " 861: [1093, 1457, 1552],\n",
       " 862: [521, 605, 834, 1309, 1903],\n",
       " 863: [1232, 1960],\n",
       " 864: [1823],\n",
       " 865: [789, 1299],\n",
       " 866: [123, 475, 1543],\n",
       " 867: [945, 1573],\n",
       " 868: [1569],\n",
       " 869: [570, 1035],\n",
       " 870: [601, 849],\n",
       " 871: [37, 837, 1786],\n",
       " 872: [182, 979],\n",
       " 873: [1146, 1220],\n",
       " 874: [161, 366, 1439],\n",
       " 875: [200, 556],\n",
       " 876: [278, 597, 1148],\n",
       " 877: [267],\n",
       " 878: [721, 1678, 1709],\n",
       " 879: [395],\n",
       " 880: [535, 1459],\n",
       " 881: [370, 1481, 1643],\n",
       " 882: [206, 1374, 1970],\n",
       " 883: [1948],\n",
       " 884: [884],\n",
       " 885: [341, 1664],\n",
       " 886: [680, 1217, 1515],\n",
       " 887: [887],\n",
       " 888: [242],\n",
       " 889: [1972],\n",
       " 890: [278],\n",
       " 891: [122, 234, 962, 1762],\n",
       " 892: [1845],\n",
       " 893: [1692],\n",
       " 894: [615, 1365],\n",
       " 895: [126, 1948],\n",
       " 896: [723, 965, 1002],\n",
       " 897: [554, 897],\n",
       " 898: [201, 1767],\n",
       " 899: [1127, 1723, 1929],\n",
       " 900: [1100, 1956],\n",
       " 901: [1099, 1919],\n",
       " 902: [1428],\n",
       " 903: [1416],\n",
       " 904: [1062],\n",
       " 905: [406, 1991],\n",
       " 906: [1253],\n",
       " 907: [1616],\n",
       " 908: [1744],\n",
       " 909: [1261, 1824],\n",
       " 910: [1773],\n",
       " 911: [1340],\n",
       " 912: [559, 704, 1289, 1369],\n",
       " 913: [1420],\n",
       " 914: [785],\n",
       " 915: [213, 289],\n",
       " 916: [64, 1481],\n",
       " 917: [781],\n",
       " 918: [16, 1304],\n",
       " 919: [87, 656],\n",
       " 920: [659, 950],\n",
       " 921: [797, 1755],\n",
       " 922: [1274, 1635],\n",
       " 923: [39],\n",
       " 924: [635],\n",
       " 925: [321, 347],\n",
       " 926: [710, 926],\n",
       " 927: [1393, 1666],\n",
       " 928: [5, 1981],\n",
       " 929: [1570],\n",
       " 930: [1864],\n",
       " 931: [673, 1245],\n",
       " 932: [334, 1203, 1642],\n",
       " 933: [301, 649, 1164],\n",
       " 934: [668, 1047, 1540, 1887],\n",
       " 935: [1617],\n",
       " 936: [1187],\n",
       " 937: [937, 1353],\n",
       " 938: [949, 1913],\n",
       " 939: [815],\n",
       " 940: [1649],\n",
       " 941: [941],\n",
       " 942: [1125],\n",
       " 943: [943, 1404],\n",
       " 944: [833, 1112],\n",
       " 945: [165, 867, 964],\n",
       " 946: [760],\n",
       " 947: [728, 1596],\n",
       " 948: [190],\n",
       " 949: [320, 938, 1931],\n",
       " 950: [920, 1992],\n",
       " 951: [1590],\n",
       " 952: [1422],\n",
       " 953: [233, 572, 1127],\n",
       " 954: [29, 1074],\n",
       " 955: [1672],\n",
       " 956: [54, 252, 503, 795],\n",
       " 957: [995],\n",
       " 958: [443, 1275],\n",
       " 959: [966],\n",
       " 960: [241, 1297, 1641, 1839],\n",
       " 961: [44, 1050],\n",
       " 962: [891],\n",
       " 963: [20, 1144, 1875],\n",
       " 964: [945, 1623],\n",
       " 965: [896, 1768],\n",
       " 966: [959, 1394],\n",
       " 967: [1155],\n",
       " 968: [1154, 1609],\n",
       " 969: [1652, 1738],\n",
       " 970: [970],\n",
       " 971: [187],\n",
       " 972: [449, 1135, 1707],\n",
       " 973: [1029],\n",
       " 974: [1267],\n",
       " 975: [1587, 1928],\n",
       " 976: [1248],\n",
       " 977: [977, 1932],\n",
       " 978: [1906],\n",
       " 979: [159, 180, 872, 1218, 1560],\n",
       " 980: [1086, 1830],\n",
       " 981: [1426, 1689],\n",
       " 982: [1671],\n",
       " 983: [584, 717, 1408],\n",
       " 984: [769, 1121],\n",
       " 985: [729, 1344],\n",
       " 986: [1486],\n",
       " 987: [611],\n",
       " 988: [988, 1800],\n",
       " 989: [704],\n",
       " 990: [1398],\n",
       " 991: [778],\n",
       " 992: [992],\n",
       " 993: [1537],\n",
       " 994: [727],\n",
       " 995: [957, 1909],\n",
       " 996: [374, 1848],\n",
       " 997: [822, 1159],\n",
       " 998: [557, 1691],\n",
       " 999: [1393],\n",
       " ...}"
      ]
     },
     "execution_count": 10,
     "metadata": {},
     "output_type": "execute_result"
    }
   ],
   "source": [
    "from collections import defaultdict\n",
    "f = Input(12)\n",
    "data = f.read().split('\\n')[:-1]\n",
    "f.close()\n",
    "data = [d.split(' <-> ') for d in data]\n",
    "conns = {}\n",
    "for d in data:\n",
    "    conns[int(d[0])] = [int(l) for l in d[1].split(', ')]\n",
    "conns\n",
    "\n"
   ]
  },
  {
   "cell_type": "code",
   "execution_count": 11,
   "metadata": {},
   "outputs": [
    {
     "name": "stdout",
     "output_type": "stream",
     "text": [
      "378\n"
     ]
    }
   ],
   "source": [
    "conn0 = set(conns[0])\n",
    "l = 0\n",
    "laux = len(conn0)\n",
    "currlevel = conns[0][:]\n",
    "newlevel = []\n",
    "while laux > l:\n",
    "    l = laux\n",
    "    for num in currlevel:\n",
    "        conn0.update(set(conns[num]))\n",
    "        newlevel += conns[num]\n",
    "    newlevel = list(set(newlevel))\n",
    "    currlevel = newlevel[:]\n",
    "    newlevel = []\n",
    "    laux = len(conn0)\n",
    "\n",
    "print(l)\n"
   ]
  },
  {
   "cell_type": "markdown",
   "metadata": {},
   "source": [
    "## Challenge 2"
   ]
  },
  {
   "cell_type": "code",
   "execution_count": 27,
   "metadata": {},
   "outputs": [
    {
     "name": "stdout",
     "output_type": "stream",
     "text": [
      "204\n"
     ]
    }
   ],
   "source": [
    "visited = len(conns)*[0]\n",
    "conncomp = 0\n",
    "def dfs(num):\n",
    "    for connum in conns[num]:\n",
    "        if not visited[connum]:\n",
    "            visited[connum] = 1\n",
    "            dfs(connum)\n",
    "\n",
    "for num in conns:\n",
    "    if not visited[num]:\n",
    "        visited[num] = 1\n",
    "        conncomp += 1\n",
    "        dfs(num)\n",
    "print(conncomp)"
   ]
  },
  {
   "cell_type": "markdown",
   "metadata": {},
   "source": [
    "# Day 13\n",
    "## Challenge 1"
   ]
  },
  {
   "cell_type": "code",
   "execution_count": 25,
   "metadata": {},
   "outputs": [
    {
     "data": {
      "text/plain": [
       "1728"
      ]
     },
     "execution_count": 25,
     "metadata": {},
     "output_type": "execute_result"
    }
   ],
   "source": [
    "from collections import defaultdict\n",
    "f = Input(13)\n",
    "data = f.read().split('\\n')[:-1]\n",
    "# data = ['0: 3', '1: 2', '4: 4', '6: 4']\n",
    "f.close()\n",
    "scann = defaultdict(lambda : 0)\n",
    "for d in data:\n",
    "    scann[int(d.split(': ')[0])] = int(d.split(': ')[1])\n",
    "n = max(scann.keys()) + 1\n",
    "severity = 0\n",
    "for j in scann:\n",
    "    if j%((scann[j]-1)*2) == 0:\n",
    "        severity += j*scann[j]\n",
    "severity"
   ]
  },
  {
   "cell_type": "markdown",
   "metadata": {},
   "source": [
    "## Challenge 2"
   ]
  },
  {
   "cell_type": "code",
   "execution_count": 26,
   "metadata": {},
   "outputs": [
    {
     "name": "stdout",
     "output_type": "stream",
     "text": [
      "3946838\n"
     ]
    }
   ],
   "source": [
    "delay = 0\n",
    "while delay > -1:\n",
    "    severity = 0 \n",
    "    for j in scann:\n",
    "        if (delay+j)%((scann[j]-1)*2) == 0:\n",
    "            severity += j*scann[j] + 1\n",
    "            if severity > 0:\n",
    "                break\n",
    "    if severity == 0:\n",
    "        print(delay)\n",
    "        break\n",
    "    delay = delay+1"
   ]
  },
  {
   "cell_type": "markdown",
   "metadata": {},
   "source": [
    "# Day 14\n",
    "## Challenge 1\n",
    "Note: If hash is any good, bits should look like random with $p = 0.5$. Therefore sum of squares with a one should be around $128^2 / 2 = 8192$. \n",
    "\n",
    "(Note2: The hash has other problems, but also cool stuff: [see this](https://www.reddit.com/r/adventofcode/comments/7it50b/day_10_part_2_cryptanalysis/))"
   ]
  },
  {
   "cell_type": "code",
   "execution_count": 100,
   "metadata": {},
   "outputs": [
    {
     "name": "stdout",
     "output_type": "stream",
     "text": [
      "8194, yay!\n"
     ]
    }
   ],
   "source": [
    "data = 'uugsqrei'\n",
    "squares = []\n",
    "for i in range(128):\n",
    "    hsh = knothash(data+'-'+str(i), frmt='08b')\n",
    "    squares += [[int(h) for h in hsh]]\n",
    "squares = np.array(squares)\n",
    "print(\"{}, yay!\".format(np.sum(squares)))"
   ]
  },
  {
   "cell_type": "code",
   "execution_count": 91,
   "metadata": {},
   "outputs": [
    {
     "data": {
      "text/plain": [
       "1141"
      ]
     },
     "execution_count": 91,
     "metadata": {},
     "output_type": "execute_result"
    }
   ],
   "source": [
    "indices = np.where(squares == 1)\n",
    "indices = list(np.array(indices).T)\n",
    "indices = [tuple(i) for i in indices] # Note: Sparse version of matrix\n",
    "visited = [0]*len(indices) # I'm basically looking at connected components without creating the dictionary first\n",
    "def matdfs(pos):\n",
    "    for neigh in neighbors4(indices[pos]):\n",
    "        try:\n",
    "            npos = indices.index(neigh)\n",
    "            if not visited[npos]:\n",
    "                visited[npos] = 1\n",
    "                matdfs(npos)\n",
    "        except ValueError as e:\n",
    "            pass\n",
    "conncomp = 0\n",
    "for ind in range(len(indices)):\n",
    "    if not visited[ind]:\n",
    "        visited[ind] = 1\n",
    "        conncomp += 1\n",
    "        matdfs(ind)\n",
    "conncomp"
   ]
  },
  {
   "cell_type": "markdown",
   "metadata": {},
   "source": [
    "Looking a bit at how random are each of these bits?"
   ]
  },
  {
   "cell_type": "code",
   "execution_count": 104,
   "metadata": {},
   "outputs": [
    {
     "data": {
      "image/png": "[encoded data removed]",
      "text/plain": [
       "<matplotlib.figure.Figure at 0x7f0668512fd0>"
      ]
     },
     "metadata": {},
     "output_type": "display_data"
    }
   ],
   "source": [
    "import matplotlib.pyplot as plt\n",
    "\n",
    "plt.hist(np.sum(squares, axis=0))\n",
    "plt.show()"
   ]
  },
  {
   "cell_type": "code",
   "execution_count": 108,
   "metadata": {},
   "outputs": [
    {
     "data": {
      "image/png": "[encoded data removed]",
      "text/plain": [
       "<matplotlib.figure.Figure at 0x7f06683a8c88>"
      ]
     },
     "metadata": {},
     "output_type": "display_data"
    }
   ],
   "source": [
    "plt.plot(np.sum(squares, axis = 1)/128)\n",
    "plt.show()"
   ]
  },
  {
   "cell_type": "markdown",
   "metadata": {},
   "source": [
    "# Day 15\n",
    "## Challenge 1"
   ]
  },
  {
   "cell_type": "code",
   "execution_count": 18,
   "metadata": {},
   "outputs": [
    {
     "data": {
      "text/plain": [
       "626"
      ]
     },
     "execution_count": 18,
     "metadata": {},
     "output_type": "execute_result"
    }
   ],
   "source": [
    "genA0 = 679\n",
    "genB0 = 771\n",
    "factA = 16807\n",
    "factB = 48271\n",
    "div = 2147483647\n",
    "\n",
    "def genA():\n",
    "    x = genA0\n",
    "    while True:\n",
    "        x *= factA\n",
    "        x %= div\n",
    "        yield x\n",
    "def genB():\n",
    "    x = genB0\n",
    "    while True:\n",
    "        x *= factB\n",
    "        x %= div\n",
    "        yield x\n",
    "        \n",
    "A = genA()\n",
    "B = genB()\n",
    "counteq = 0\n",
    "for i in range(40*10**6):\n",
    "    a = next(A)\n",
    "    b = next(B)\n",
    "    if (a & 0xFFFF) == (b & 0xFFFF):\n",
    "        counteq+=1\n",
    "\n",
    "counteq"
   ]
  },
  {
   "cell_type": "code",
   "execution_count": 20,
   "metadata": {},
   "outputs": [
    {
     "data": {
      "text/plain": [
       "306"
      ]
     },
     "execution_count": 20,
     "metadata": {},
     "output_type": "execute_result"
    }
   ],
   "source": [
    "newcounteq = 0\n",
    "judgecount = 0\n",
    "\n",
    "def genA():\n",
    "    x = genA0\n",
    "    while True:\n",
    "        x *= factA\n",
    "        x %= div\n",
    "        if x % 4 == 0:\n",
    "            yield x\n",
    "\n",
    "def genB():\n",
    "    x = genB0\n",
    "    while True:\n",
    "        x *= factB\n",
    "        x %= div\n",
    "        if x % 8 == 0:\n",
    "            yield x\n",
    "\n",
    "A = genA()\n",
    "B = genB()\n",
    "for jc in range(5*10**6):\n",
    "    a = next(A)\n",
    "    b = next(B)\n",
    "    newcounteq += ((a & 0xFFFF) == (b & 0xFFFF))\n",
    "newcounteq"
   ]
  },
  {
   "cell_type": "markdown",
   "metadata": {},
   "source": [
    "# Day 16\n",
    "## Challenge 1"
   ]
  },
  {
   "cell_type": "code",
   "execution_count": 218,
   "metadata": {},
   "outputs": [],
   "source": [
    "import string\n",
    "f = Input(16)\n",
    "data = f.read()[:-1].split(',')\n",
    "f.close()"
   ]
  },
  {
   "cell_type": "code",
   "execution_count": 222,
   "metadata": {},
   "outputs": [],
   "source": [
    "class Permutation(object):\n",
    "    def __init__(self, lst0, lst):\n",
    "        self.ref = lst0[:]\n",
    "        self.l = len(lst0)\n",
    "        self.perm = {lst0[i]:lst[i] for i in range(len(lst0))}\n",
    "    def t(self, i1, i2):\n",
    "        aux1, aux2 = self.perm[i1], self.perm[i2]\n",
    "        self.perm[i1], self.perm[i2] = aux2, aux1\n",
    "    \n",
    "    def composeright(self, perm2):\n",
    "        self.perm = {i:perm2.perm[self.perm[i]] for i in self.perm}\n",
    "    \n",
    "    def composeleft(self, perm2):\n",
    "        self.perm = {i:self.perm[perm2.perm[i]] for i in perm2.perm}\n",
    "    def __repr__(self):\n",
    "        return self.perm.__repr__()\n",
    "\n",
    "def nextstr(stri, permind, permstr):\n",
    "    straux = list(stri)\n",
    "    straux = [permstr.perm[c] for c in straux]\n",
    "    return ''.join(straux[permind.perm[i]] for i in permind.perm)\n",
    "    "
   ]
  },
  {
   "cell_type": "code",
   "execution_count": 223,
   "metadata": {},
   "outputs": [
    {
     "name": "stdout",
     "output_type": "stream",
     "text": [
      "{0: 15, 1: 1, 2: 12, 3: 2, 4: 8, 5: 7, 6: 5, 7: 14, 8: 6, 9: 4, 10: 13, 11: 10, 12: 3, 13: 0, 14: 11, 15: 9} {'a': 'l', 'b': 'a', 'c': 'd', 'd': 'e', 'e': 'f', 'f': 'b', 'g': 'i', 'h': 'k', 'i': 'g', 'j': 'j', 'k': 'c', 'l': 'o', 'm': 'm', 'n': 'p', 'o': 'h', 'p': 'n'}\n"
     ]
    }
   ],
   "source": [
    "# Generate permutations\n",
    "permind = Permutation(range(l), range(l))\n",
    "permstr = Permutation(list(string.ascii_lowercase[:l]), list(string.ascii_lowercase[:l]))\n",
    "\n",
    "for inst in data:\n",
    "    if inst[0] == 's':\n",
    "        off = int(inst[1:])\n",
    "        auxperm = Permutation(range(l), [(i - off)%l for i in range(l)])\n",
    "        permind.composeleft(auxperm)\n",
    "    elif inst[0] == 'x':\n",
    "        i1, i2 = [int(i) for i in inst[1:].split('/')]\n",
    "        permind.t(i1, i2)\n",
    "    elif inst[0] == 'p':\n",
    "        c1, c2 = [c for c in inst[1:].split('/')]\n",
    "        for (k,v) in permstr.perm.items():\n",
    "            if v == c1:\n",
    "                permstr.perm[k] = c2\n",
    "            if v == c2:\n",
    "                permstr.perm[k] = c1\n",
    "\n",
    "print(permind, permstr)\n"
   ]
  },
  {
   "cell_type": "code",
   "execution_count": 224,
   "metadata": {},
   "outputs": [
    {
     "name": "stdout",
     "output_type": "stream",
     "text": [
      "namdgkbhifpceloj\n"
     ]
    }
   ],
   "source": [
    "str0 = string.ascii_lowercase[:l]\n",
    "print(nextstr(str0, permind, permstr))"
   ]
  },
  {
   "cell_type": "markdown",
   "metadata": {},
   "source": [
    "## Challenge 2\n"
   ]
  },
  {
   "cell_type": "code",
   "execution_count": 228,
   "metadata": {},
   "outputs": [
    {
     "name": "stdout",
     "output_type": "stream",
     "text": [
      "60\n"
     ]
    }
   ],
   "source": [
    "str1 = nextstr(str0, permind, permstr)\n",
    "cyc = 1\n",
    "while str1 != str0:\n",
    "    str1 = nextstr(str1, permind, permstr)\n",
    "    cyc+=1\n",
    "print(cyc)"
   ]
  },
  {
   "cell_type": "code",
   "execution_count": 229,
   "metadata": {},
   "outputs": [
    {
     "name": "stdout",
     "output_type": "stream",
     "text": [
      "ibmchklnofjpdeag\n"
     ]
    }
   ],
   "source": [
    "numreps = 10**9 % cyc\n",
    "for i in range(numreps):\n",
    "    str1 = nextstr(str1, permind, permstr)\n",
    "print(str1)"
   ]
  },
  {
   "cell_type": "markdown",
   "metadata": {},
   "source": [
    "# Day 17\n",
    "## Challenge 1"
   ]
  },
  {
   "cell_type": "code",
   "execution_count": 231,
   "metadata": {},
   "outputs": [
    {
     "name": "stdout",
     "output_type": "stream",
     "text": [
      "1306\n"
     ]
    }
   ],
   "source": [
    "def spinlock(lst, val, curpos, step=324):\n",
    "    i = (curpos + step) % len(lst) + 1\n",
    "    lst.insert(i, val)\n",
    "    return i\n",
    "\n",
    "lst = [0]\n",
    "curpos = 0\n",
    "\n",
    "for i in range(1, 2018):\n",
    "    curpos = spinlock(lst, i, curpos)\n",
    "print(lst[curpos+1])\n"
   ]
  },
  {
   "cell_type": "markdown",
   "metadata": {},
   "source": [
    "## Challenge 2\n",
    "Looking for last time in 50 million iterations in which `curpos == 1`"
   ]
  },
  {
   "cell_type": "code",
   "execution_count": 232,
   "metadata": {},
   "outputs": [
    {
     "data": {
      "text/plain": [
       "20430489"
      ]
     },
     "execution_count": 232,
     "metadata": {},
     "output_type": "execute_result"
    }
   ],
   "source": [
    "curpos = 0\n",
    "l = 1\n",
    "step = 324\n",
    "curval = 0\n",
    "for i in range(50*10**6):\n",
    "    curpos = (curpos + step) % l + 1 \n",
    "    l += 1\n",
    "    if curpos == 1:\n",
    "        curval = i+1\n",
    "curval"
   ]
  },
  {
   "cell_type": "markdown",
   "metadata": {},
   "source": [
    "# Day 18\n",
    "## Challenge 1"
   ]
  },
  {
   "cell_type": "code",
   "execution_count": 291,
   "metadata": {},
   "outputs": [],
   "source": [
    "from collections import defaultdict\n",
    "f = Input(18)\n",
    "data = f.read().split('\\n')[:-1]\n",
    "f.close()\n",
    "insts = [d.split(' ') for d in data]\n"
   ]
  },
  {
   "cell_type": "code",
   "execution_count": 311,
   "metadata": {},
   "outputs": [
    {
     "name": "stdout",
     "output_type": "stream",
     "text": [
      "2951\n"
     ]
    }
   ],
   "source": [
    "i = 0\n",
    "regs = defaultdict(lambda : 0)\n",
    "def run(insts, i, regs):\n",
    "    def getval(k):\n",
    "        try:\n",
    "            return int(k)\n",
    "        except ValueError as e:\n",
    "            return regs[k]\n",
    "    ret = np.nan\n",
    "    isrcv = 0\n",
    "    newi = i+1\n",
    "    if insts[i][0] == 'rcv':\n",
    "        if regs[insts[i][1]] > 0:\n",
    "            ret = regs['last']\n",
    "            isrcv = 1\n",
    "    elif insts[i][0] == 'snd':\n",
    "        regs['last'] = regs[insts[i][1]]\n",
    "    elif insts[i][0] == 'set':\n",
    "        regs[insts[i][1]] = getval(insts[i][2])\n",
    "    elif insts[i][0] == 'add':\n",
    "        regs[insts[i][1]] += getval(insts[i][2])\n",
    "    elif insts[i][0] == 'mul':\n",
    "        regs[insts[i][1]] *= getval(insts[i][2])\n",
    "    elif insts[i][0] == 'mod':\n",
    "        try:\n",
    "            regs[insts[i][1]] %= getval(insts[i][2])\n",
    "        except ZeroDivisionError as e:\n",
    "            pass\n",
    "    elif insts[i][0] == 'jgz':\n",
    "        if regs[insts[i][1]] > 0:\n",
    "            newi = i + getval(insts[i][2])\n",
    "    return [newi, ret, isrcv]\n",
    "while i < len(insts):\n",
    "    [i, ret, isrcv] = run(insts, i, regs)\n",
    "    if isrcv:\n",
    "        print(ret)\n",
    "        break"
   ]
  },
  {
   "cell_type": "markdown",
   "metadata": {},
   "source": [
    "## Challenge 2"
   ]
  },
  {
   "cell_type": "code",
   "execution_count": 310,
   "metadata": {
    "scrolled": true
   },
   "outputs": [
    {
     "name": "stdout",
     "output_type": "stream",
     "text": [
      "7366\n"
     ]
    }
   ],
   "source": [
    "from collections import deque\n",
    "i0 = 0\n",
    "i1 = 0\n",
    "regs0 = defaultdict(lambda : 0)\n",
    "regs1 = defaultdict(lambda : 0)\n",
    "regs0['p'] = 0\n",
    "regs1['p'] = 1\n",
    "regs0['buf'] = deque([])\n",
    "regs1['buf'] = deque([])\n",
    "sent1 = 0\n",
    "wait0 = 0\n",
    "wait1 = 0\n",
    "def run(insts, i, regs):\n",
    "    def getval(k):\n",
    "        try:\n",
    "            return int(k)\n",
    "        except ValueError as e:\n",
    "            return regs[k]\n",
    "    ret = np.nan\n",
    "    regs['wait'] = 0\n",
    "    newi = i+1\n",
    "    if insts[i][0] == 'rcv':\n",
    "        try:\n",
    "            regs[insts[i][1]] = regs['buf'].popleft()\n",
    "        except IndexError:\n",
    "            newi = i\n",
    "            regs['wait'] = 1\n",
    "    elif insts[i][0] == 'snd':\n",
    "        ret = getval(insts[i][1])\n",
    "    elif insts[i][0] == 'set':\n",
    "        regs[insts[i][1]] = getval(insts[i][2])\n",
    "    elif insts[i][0] == 'add':\n",
    "        regs[insts[i][1]] += getval(insts[i][2])\n",
    "    elif insts[i][0] == 'mul':\n",
    "        regs[insts[i][1]] *= getval(insts[i][2])\n",
    "    elif insts[i][0] == 'mod':\n",
    "        try:\n",
    "            regs[insts[i][1]] %= getval(insts[i][2])\n",
    "        except ZeroDivisionError as e:\n",
    "            pass\n",
    "    elif insts[i][0] == 'jgz':\n",
    "        if getval(insts[i][1]) > 0:\n",
    "            newi = i + getval(insts[i][2])\n",
    "    return [newi, ret]\n",
    "\n",
    "while not (regs0['wait'] and regs1['wait']):\n",
    "    while not regs0['wait']:\n",
    "        [i0, ret0] = run(insts, i0, regs0)\n",
    "        if not np.isnan(ret0):\n",
    "            regs1['buf'].append(ret0)\n",
    "    if len(regs1['buf']) > 0:\n",
    "        regs1['wait'] = 0\n",
    "    while not regs1['wait']:\n",
    "        [i1, ret1] = run(insts, i1, regs1)\n",
    "        if not np.isnan(ret1):\n",
    "            regs0['buf'].append(ret1)\n",
    "            sent1 += 1\n",
    "    if len(regs0['buf']) > 0:\n",
    "        regs0['wait'] = 0\n",
    "print(sent1)"
   ]
  },
  {
   "cell_type": "code",
   "execution_count": null,
   "metadata": {},
   "outputs": [],
   "source": []
  }
 ],
 "metadata": {
  "kernelspec": {
   "display_name": "Python 2",
   "language": "python",
   "name": "python2"
  },
  "language_info": {
   "codemirror_mode": {
    "name": "ipython",
    "version": 3
   },
   "file_extension": ".py",
   "mimetype": "text/x-python",
   "name": "python",
   "nbconvert_exporter": "python",
   "pygments_lexer": "ipython3",
   "version": "3.6.3"
  }
 },
 "nbformat": 4,
 "nbformat_minor": 1
}

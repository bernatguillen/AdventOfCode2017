{
 "cells": [
  {
   "cell_type": "markdown",
   "metadata": {
    "collapsed": true
   },
   "source": [
    "# Utility functions (from P. Norvig)"
   ]
  },
  {
   "cell_type": "code",
   "execution_count": 1,
   "metadata": {},
   "outputs": [],
   "source": [
    "# Python 3.x\n",
    "import re\n",
    "import numpy as np\n",
    "import math\n",
    "import urllib.request\n",
    "\n",
    "from collections import Counter, defaultdict, namedtuple, deque\n",
    "from functools   import lru_cache\n",
    "from itertools   import permutations, combinations, chain, cycle, product, islice\n",
    "from heapq       import heappop, heappush\n",
    "\n",
    "def Input(day):\n",
    "    \"Open this day's input file.\"\n",
    "    filename = './inputs/input{}'.format(day)\n",
    "    try:\n",
    "        return open(filename)\n",
    "    except FileNotFoundError:\n",
    "        return urllib.request.urlopen(\"http://adventofcode.com/2017/day/{}/input\".format(day))\n",
    "\n",
    "def transpose(matrix): return zip(*matrix)\n",
    "\n",
    "def first(iterable): return next(iter(iterable))\n",
    "\n",
    "def nth(iterable, n, default=None):\n",
    "    \"Returns the nth item of iterable, or a default value\"\n",
    "    return next(islice(iterable, n, None), default)\n",
    "\n",
    "cat = ''.join\n",
    "\n",
    "empty   = frozenset() # Empty set\n",
    "inf = float('inf')\n",
    "BIG = 10 ** 999\n",
    "\n",
    "def grep(pattern, lines):\n",
    "    \"Print lines that match pattern.\"\n",
    "    for line in lines:\n",
    "        if re.search(pattern, line):\n",
    "            print(line)\n",
    "\n",
    "def groupby(iterable, key=lambda it: it):\n",
    "    \"Return a dic whose keys are key(it) and whose values are all the elements of iterable with that key.\"\n",
    "    dic = defaultdict(list)\n",
    "    for it in iterable:\n",
    "        dic[key(it)].append(it)\n",
    "    return dic\n",
    "\n",
    "def powerset(iterable):\n",
    "    \"Yield all subsets of items.\"\n",
    "    items = list(iterable)\n",
    "    for r in range(len(items)+1):\n",
    "        for c in combinations(items, r):\n",
    "            yield c\n",
    "\n",
    "# 2-D points implemented using (x, y) tuples\n",
    "def X(point): return point[0]\n",
    "def Y(point): return point[1]\n",
    "\n",
    "def neighbors4(point): \n",
    "    \"The four neighbors (without diagonals).\"\n",
    "    x, y = point\n",
    "    return ((x+1, y), (x-1, y), (x, y+1), (x, y-1))\n",
    "\n",
    "def neighbors8(point): \n",
    "    \"The eight neighbors (with diagonals).\"\n",
    "    x, y = point \n",
    "    return ((x+1, y), (x-1, y), (x, y+1), (x, y-1),\n",
    "            (x+1, y+1), (x-1, y-1), (x+1, y-1), (x-1, y+1))\n",
    "\n",
    "def cityblock_distance(p, q=(0, 0)): \n",
    "    \"City block distance between two points.\"\n",
    "    return abs(X(p) - X(q)) + abs(Y(p) - Y(q))\n",
    "\n",
    "def euclidean_distance(p, q=(0, 0)): \n",
    "    \"Euclidean (hypotenuse) distance between two points.\"\n",
    "    return math.hypot(X(p) - X(q), Y(p) - Y(q))\n",
    "\n",
    "def trace1(f):\n",
    "    \"Print a trace of the input and output of a function on one line.\"\n",
    "    def traced_f(*args):\n",
    "        result = f(*args)\n",
    "        print('{}({}) = {}'.format(f.__name__, ', '.join(map(str, args)), result))\n",
    "        return result\n",
    "    return traced_f\n",
    "\n",
    "def astar_search(start, h_func, moves_func):\n",
    "    \"Find a shortest sequence of states from start to a goal state (a state s with h_func(s) == 0).\"\n",
    "    frontier  = [(h_func(start), start)] # A priority queue, ordered by path length, f = g + h\n",
    "    previous  = {start: None}  # start state has no previous state; other states will\n",
    "    path_cost = {start: 0}     # The cost of the best path to a state.\n",
    "    while frontier:\n",
    "        (f, s) = heappop(frontier)\n",
    "        if h_func(s) == 0:\n",
    "            return Path(previous, s)\n",
    "        for s2 in moves_func(s):\n",
    "            new_cost = path_cost[s] + 1\n",
    "            if s2 not in path_cost or new_cost < path_cost[s2]:\n",
    "                heappush(frontier, (new_cost + h_func(s2), s2))\n",
    "                path_cost[s2] = new_cost\n",
    "                previous[s2] = s\n",
    "    return dict(fail=True, front=len(frontier), prev=len(previous))\n",
    "                \n",
    "def Path(previous, s): \n",
    "    \"Return a list of states that lead to state s, according to the previous dict.\"\n",
    "    return ([] if (s is None) else Path(previous, previous[s]) + [s])"
   ]
  },
  {
   "cell_type": "markdown",
   "metadata": {},
   "source": [
    "# My utility functions"
   ]
  },
  {
   "cell_type": "code",
   "execution_count": 2,
   "metadata": {},
   "outputs": [],
   "source": [
    "import functools\n",
    "def myreverse(seq, i0, length):\n",
    "    nseq = []\n",
    "    for i in range(length):\n",
    "        nseq.append(seq[(i0+i)%len(seq)])\n",
    "    for i in range(length):\n",
    "        seq[(i0+i)%len(seq)] = list(reversed(nseq))[i]\n",
    "def knothash(odata, frmt='02x'):\n",
    "    data = [ord(d) for d in odata] + [17, 31, 73, 47, 23]\n",
    "    seq = list(range(256))\n",
    "    pos = 0\n",
    "    sks = 0\n",
    "    for i in range(64):\n",
    "        for l in data:\n",
    "            myreverse(seq, pos, l)\n",
    "            pos = (pos + l +sks)%len(seq)\n",
    "            sks += 1\n",
    "    dhash = []\n",
    "    c = \"\"\n",
    "    for i in range(16):\n",
    "        dhash += [functools.reduce(lambda a, b: a^b, seq[16*i:16*(i+1)])]\n",
    "        c+=format(dhash[i],frmt)\n",
    "    return c"
   ]
  },
  {
   "cell_type": "markdown",
   "metadata": {},
   "source": [
    "Tests"
   ]
  },
  {
   "cell_type": "code",
   "execution_count": 4,
   "metadata": {},
   "outputs": [],
   "source": [
    "assert tuple(transpose(((1, 2, 3), (4, 5, 6)))) == ((1, 4), (2, 5), (3, 6))\n",
    "assert first('abc') == first(['a', 'b', 'c']) == 'a'\n",
    "assert cat(['a', 'b', 'c']) == 'abc'\n",
    "assert (groupby(['test', 'one', 'two', 'three', 'four'], key=len) \n",
    "        == {3: ['one', 'two'], 4: ['test', 'four'], 5: ['three']})"
   ]
  },
  {
   "cell_type": "markdown",
   "metadata": {},
   "source": [
    "# Day 1, challenge 1\n",
    "\n",
    "Need to obtain summation of all digits in a number such that the next digit is the same (circular)"
   ]
  },
  {
   "cell_type": "code",
   "execution_count": 31,
   "metadata": {},
   "outputs": [],
   "source": [
    "f = Input(1)\n",
    "data = f.read()[:-1]\n",
    "f.close()"
   ]
  },
  {
   "cell_type": "code",
   "execution_count": 34,
   "metadata": {},
   "outputs": [],
   "source": [
    "suma = 0\n",
    "for i in range(len(data[:-1])):\n",
    "    if data[i] == data[i+1]:\n",
    "        suma = suma+int(data[i])\n",
    "if data[0] == data[-1]:\n",
    "    suma = suma+int(data[-1])"
   ]
  },
  {
   "cell_type": "code",
   "execution_count": 35,
   "metadata": {},
   "outputs": [
    {
     "data": {
      "text/plain": [
       "1182"
      ]
     },
     "execution_count": 35,
     "metadata": {},
     "output_type": "execute_result"
    }
   ],
   "source": [
    "suma"
   ]
  },
  {
   "cell_type": "markdown",
   "metadata": {},
   "source": [
    "## Challenge 2\n",
    "In this case we obtain summation of all digits such that the digit `len(data)/2` ahead (modulo `len(data)`) is equal to that one. "
   ]
  },
  {
   "cell_type": "code",
   "execution_count": 38,
   "metadata": {},
   "outputs": [
    {
     "data": {
      "text/plain": [
       "1152"
      ]
     },
     "execution_count": 38,
     "metadata": {},
     "output_type": "execute_result"
    }
   ],
   "source": [
    "suma = 0\n",
    "for i in range(len(data)):\n",
    "    j = (i+len(data)//2)%len(data)\n",
    "    if data[i] == data[j]:\n",
    "        suma = suma+int(data[i])\n",
    "suma"
   ]
  },
  {
   "cell_type": "markdown",
   "metadata": {
    "collapsed": true
   },
   "source": [
    "# Day 2\n",
    "## Challenge 1\n",
    "Find checksum of matrix"
   ]
  },
  {
   "cell_type": "code",
   "execution_count": 22,
   "metadata": {},
   "outputs": [],
   "source": [
    "f = Input(2)\n",
    "data = f.read()\n",
    "data = data.split('\\n')[:-1]\n",
    "data = [d.split('\\t') for d in data]\n",
    "data = [[int(j) for j in i] for i in data]\n",
    "f.close()"
   ]
  },
  {
   "cell_type": "code",
   "execution_count": 23,
   "metadata": {},
   "outputs": [
    {
     "name": "stdout",
     "output_type": "stream",
     "text": [
      "41919\n"
     ]
    }
   ],
   "source": [
    "chcksm = 0\n",
    "for line in data:\n",
    "    chcksm += max(line) - min(line)\n",
    "print(chcksm)"
   ]
  },
  {
   "cell_type": "markdown",
   "metadata": {},
   "source": [
    "## Challenge 2"
   ]
  },
  {
   "cell_type": "code",
   "execution_count": 25,
   "metadata": {},
   "outputs": [
    {
     "name": "stdout",
     "output_type": "stream",
     "text": [
      "303\n"
     ]
    }
   ],
   "source": [
    "chcksm = 0\n",
    "for line in data:\n",
    "    for j1 in range(len(i)): \n",
    "        for j2 in range(len(i)):\n",
    "            if j2 != j1:\n",
    "                if i[j1] % i[j2] == 0:\n",
    "                    chcksm += int(line[j1]/line[j2])\n",
    "                    break\n",
    "print(chcksm)"
   ]
  },
  {
   "cell_type": "markdown",
   "metadata": {},
   "source": [
    "# Day 3\n",
    "## Challenge 1\n",
    "Objective: Find coordinates of n-th element of a spiral defined as:\n",
    "    \n",
    "    17  16  15  14  13\n",
    "    18   5   4   3  12\n",
    "    19   6   1   2  11\n",
    "    20   7   8   9  10\n",
    "    21  22  23---> ..."
   ]
  },
  {
   "cell_type": "code",
   "execution_count": 33,
   "metadata": {},
   "outputs": [],
   "source": [
    "def nextpos(num, prevpos):  # bruteforce ftw\n",
    "    if num == 1:\n",
    "        return np.array([0,0])\n",
    "    if num == 2:\n",
    "        return np.array([1,0])\n",
    "    if prevpos[0] > abs(prevpos[1]):\n",
    "        return prevpos + np.array([0, 1])\n",
    "    elif abs(prevpos[0]) < prevpos[1] or (prevpos[0] == prevpos[1] and prevpos[0]>0):\n",
    "        return prevpos + np.array([-1, 0])\n",
    "    elif abs(prevpos[0]) > abs(prevpos[1]) or (prevpos[0] == -1*prevpos[1] and prevpos[1]>0):\n",
    "        return prevpos + np.array([0, -1])\n",
    "    else:\n",
    "        return prevpos + np.array([1, 0])\n",
    "\n",
    "def pos(num):\n",
    "    if num == 1:\n",
    "        return np.array([0,0])\n",
    "    if num == 2:\n",
    "        return np.array([1,0])\n",
    "    prevpos = pos(num-1)\n",
    "    if prevpos[0] > abs(prevpos[1]):\n",
    "        return prevpos + np.array([0, 1])\n",
    "    elif abs(prevpos[0]) < prevpos[1] or (prevpos[0] == prevpos[1] and prevpos[0]>0):\n",
    "        return prevpos + np.array([-1, 0])\n",
    "    elif abs(prevpos[0]) > abs(prevpos[1]) or (prevpos[0] == -1*prevpos[1] and prevpos[1]>0):\n",
    "        return prevpos + np.array([0, -1])\n",
    "    else:\n",
    "        return prevpos + np.array([1, 0])\n",
    "\n",
    "prevpos = np.array([0,0])\n",
    "for i in range(1, 347991):\n",
    "    prevpos = nextpos(i+1, prevpos)"
   ]
  },
  {
   "cell_type": "code",
   "execution_count": 35,
   "metadata": {},
   "outputs": [
    {
     "data": {
      "text/plain": [
       "480"
      ]
     },
     "execution_count": 35,
     "metadata": {},
     "output_type": "execute_result"
    }
   ],
   "source": [
    "cityblock_distance(prevpos)"
   ]
  },
  {
   "cell_type": "markdown",
   "metadata": {},
   "source": [
    "## Challenge 2\n",
    "Filling each of the coordinate with the sum of all adjacent coordinates (going in spiral and starting with a 1 on `[0,0]`), find what's the value of the first position with a value greater than `347991` (my puzzle input)"
   ]
  },
  {
   "cell_type": "code",
   "execution_count": 30,
   "metadata": {},
   "outputs": [
    {
     "name": "stdout",
     "output_type": "stream",
     "text": [
      "349975\n"
     ]
    }
   ],
   "source": [
    "poss = {tuple(np.array([0,0])):1}\n",
    "prevpos = np.array([0,0])\n",
    "for i in range(1,347991):\n",
    "    prevpos = nextpos(i+1, prevpos)\n",
    "    num = 0\n",
    "    for neig in neighbors8(prevpos):  # these are tuples already, fixed a typo in Norvig's functions.\n",
    "        if neig in poss:\n",
    "            num += poss[neig]\n",
    "    poss[tuple(prevpos)] = num\n",
    "    if num > 347991:\n",
    "        print(num)\n",
    "        break"
   ]
  },
  {
   "cell_type": "markdown",
   "metadata": {},
   "source": [
    "# Day 4\n",
    "## Challenge 1\n",
    "Given a list of strings find duplicates."
   ]
  },
  {
   "cell_type": "code",
   "execution_count": 18,
   "metadata": {},
   "outputs": [],
   "source": [
    "f = Input(4)\n",
    "data = f.read()\n",
    "data = data.split('\\n')[:-1]\n",
    "data = [d.split(' ') for d in data]\n",
    "f.close()"
   ]
  },
  {
   "cell_type": "code",
   "execution_count": 19,
   "metadata": {},
   "outputs": [
    {
     "data": {
      "text/plain": [
       "451"
      ]
     },
     "execution_count": 19,
     "metadata": {},
     "output_type": "execute_result"
    }
   ],
   "source": [
    "res = [any(l.count(x)>1 for x in l) for l in data]\n",
    "len(res) - sum(res)"
   ]
  },
  {
   "cell_type": "markdown",
   "metadata": {},
   "source": [
    "## Challenge 2\n",
    "Look for anagrams (need to sort strings!)"
   ]
  },
  {
   "cell_type": "code",
   "execution_count": 21,
   "metadata": {},
   "outputs": [
    {
     "data": {
      "text/plain": [
       "223"
      ]
     },
     "execution_count": 21,
     "metadata": {},
     "output_type": "execute_result"
    }
   ],
   "source": [
    "data2 = [[cat(sorted(list(x))) for x in l] for l in data]  # ''.join() = cat is not necessary, but I like it.\n",
    "res = [len(l) > len(set(l)) for l in data2]  # Same as any(l.count(x)>1 for x in l) for l in data but can be faster.\n",
    "len(res) - sum(res)"
   ]
  },
  {
   "cell_type": "markdown",
   "metadata": {},
   "source": [
    "# Day 5\n",
    "## Challenge 1\n",
    "\n",
    "We traverse a sequence $(i_0(0), ..., i_0(n-1)$ the following way:\n",
    "\\begin{align}\n",
    "&x_0 &= &0\\\\\n",
    "&x_{t+1} &= &x_t + i_t(x_t)\\\\\n",
    "&i_{t+1}(x_t) &= &i_{t}(x_t) + 1\\\\\n",
    "\\end{align}\n",
    "\n",
    "Stop if $x_{t+1} > n-1$"
   ]
  },
  {
   "cell_type": "code",
   "execution_count": 36,
   "metadata": {},
   "outputs": [],
   "source": [
    "f = Input(5)\n",
    "data = f.read()\n",
    "data = data.split('\\n')[:-1]\n",
    "data = [int(i) for i in data]\n",
    "f.close()"
   ]
  },
  {
   "cell_type": "code",
   "execution_count": 37,
   "metadata": {},
   "outputs": [
    {
     "name": "stdout",
     "output_type": "stream",
     "text": [
      "354121\n"
     ]
    }
   ],
   "source": [
    "i = 0\n",
    "nexti = 0\n",
    "step = 0\n",
    "while i < len(data):\n",
    "    nexti = i + data[i]\n",
    "    data[i] = data[i] + 1\n",
    "    i = nexti\n",
    "    step = step+1\n",
    "print(step)\n"
   ]
  },
  {
   "cell_type": "markdown",
   "metadata": {},
   "source": [
    "## Challenge 2\n",
    "\n",
    "Now $i_{t+1}(x_t) = i_t(x_t) + 1$ if $i_t(x_t) < 3$ and $i_t(x_t) - 1$ else."
   ]
  },
  {
   "cell_type": "code",
   "execution_count": 38,
   "metadata": {},
   "outputs": [],
   "source": [
    "f = Input(5)\n",
    "data = f.read()\n",
    "data = data.split('\\n')[:-1]\n",
    "data = [int(i) for i in data]\n",
    "f.close()"
   ]
  },
  {
   "cell_type": "code",
   "execution_count": 17,
   "metadata": {},
   "outputs": [
    {
     "name": "stdout",
     "output_type": "stream",
     "text": [
      "27283023\n"
     ]
    }
   ],
   "source": [
    "i = 0\n",
    "nexti = 0\n",
    "step = 0\n",
    "while i < len(data):\n",
    "    nexti = i + data[i]\n",
    "    if data[i] >= 3:\n",
    "        data[i] = data[i] - 1\n",
    "    else:\n",
    "        data[i] = data[i] + 1\n",
    "    i = nexti\n",
    "    step = step+1\n",
    "print(step)\n"
   ]
  },
  {
   "cell_type": "markdown",
   "metadata": {},
   "source": [
    "# Day 6\n",
    "## Challenge 1 and 2"
   ]
  },
  {
   "cell_type": "code",
   "execution_count": 15,
   "metadata": {},
   "outputs": [
    {
     "data": {
      "text/plain": [
       "[4, 10, 4, 1, 8, 4, 9, 14, 5, 1, 14, 15, 0, 15, 3, 5]"
      ]
     },
     "execution_count": 15,
     "metadata": {},
     "output_type": "execute_result"
    }
   ],
   "source": [
    "f = Input(6)\n",
    "data = f.read().split('\\t')\n",
    "data = [int(i) for i in data]\n",
    "f.close()\n",
    "data"
   ]
  },
  {
   "cell_type": "code",
   "execution_count": 16,
   "metadata": {},
   "outputs": [
    {
     "name": "stdout",
     "output_type": "stream",
     "text": [
      "12841\n",
      "8038\n",
      "[1, 0, 14, 14, 12, 11, 10, 9, 9, 7, 5, 5, 4, 3, 7, 1]\n"
     ]
    }
   ],
   "source": [
    "def redist(inp):\n",
    "    i = 0\n",
    "    dat = 0\n",
    "    for j in range(len(inp)):\n",
    "        if inp[j] > dat:\n",
    "            i = j\n",
    "            dat = inp[j]\n",
    "    inp[i] = 0\n",
    "    while dat > 0:\n",
    "        i = (i+1)%len(inp)\n",
    "        inp[i] += 1\n",
    "        dat -= 1\n",
    "    return inp\n",
    "\n",
    "mydict = {}\n",
    "mydict[tuple(data)] = 0\n",
    "step = 0\n",
    "while True:\n",
    "    step += 1\n",
    "    redist(data)\n",
    "    if tuple(data) in mydict:\n",
    "        break\n",
    "    else:\n",
    "        mydict[tuple(data)] = step\n",
    "print(step)\n",
    "print(step-mydict[tuple(data)])\n",
    "print(data)"
   ]
  },
  {
   "cell_type": "markdown",
   "metadata": {},
   "source": [
    "# Day 7\n",
    "## Challenge 1"
   ]
  },
  {
   "cell_type": "code",
   "execution_count": 44,
   "metadata": {},
   "outputs": [],
   "source": [
    "from anytree import Node, RenderTree, PostOrderIter"
   ]
  },
  {
   "cell_type": "code",
   "execution_count": 57,
   "metadata": {},
   "outputs": [],
   "source": [
    "f = Input(7)\n",
    "data = f.read().split('\\n')[:-1]\n",
    "data = [d.split(' -> ') for d in data]\n",
    "nodedict = {}\n",
    "for d in data:\n",
    "    daux = d[0].split(' ')\n",
    "    nodedict[daux[0]] = Node(daux[0], weight=int(daux[1][1:-1]))\n",
    "for d in data:\n",
    "    daux = d[0].split(' ')\n",
    "    if len(d) > 1:\n",
    "        for program in d[1].split(', '):\n",
    "            nodedict[program].parent = nodedict[daux[0]]\n",
    "f.close()"
   ]
  },
  {
   "cell_type": "code",
   "execution_count": 58,
   "metadata": {},
   "outputs": [
    {
     "name": "stdout",
     "output_type": "stream",
     "text": [
      "Node('/aapssr', weight=72)\n",
      "0\n"
     ]
    },
    {
     "data": {
      "text/plain": [
       "5"
      ]
     },
     "execution_count": 58,
     "metadata": {},
     "output_type": "execute_result"
    }
   ],
   "source": [
    "print(nodedict['czlmv'].root)\n",
    "root = nodedict['aapssr']\n",
    "print(root.depth)\n",
    "len(root.children)"
   ]
  },
  {
   "cell_type": "markdown",
   "metadata": {},
   "source": [
    "## Challenge 2"
   ]
  },
  {
   "cell_type": "code",
   "execution_count": 59,
   "metadata": {},
   "outputs": [
    {
     "name": "stdout",
     "output_type": "stream",
     "text": [
      "Node('/aapssr/qwada/pkowhq', weight=1187)\n",
      "[1486, 1492, 1486, 1486]\n",
      "(Node('/aapssr/qwada/pkowhq/zfrsmm', weight=763), Node('/aapssr/qwada/pkowhq/tlskukk', weight=1464), Node('/aapssr/qwada/pkowhq/fqkbscn', weight=418), Node('/aapssr/qwada/pkowhq/mlafk', weight=38))\n"
     ]
    }
   ],
   "source": [
    "def BalancedSubtowers(node):\n",
    "    if len(node.children) == 0:\n",
    "        return [0]\n",
    "    weights = [child.weight + sum(BalancedSubtowers(child)) for child in node.children]\n",
    "    return weights\n",
    "\n",
    "for node in PostOrderIter(root):\n",
    "    if len(set(BalancedSubtowers(node))) > 1:\n",
    "        print(node)\n",
    "        break\n",
    "\n",
    "print(BalancedSubtowers(nodedict['pkowhq']))\n",
    "print(nodedict['pkowhq'].children)"
   ]
  },
  {
   "cell_type": "markdown",
   "metadata": {},
   "source": [
    "# Day 8\n",
    "## Challenge 1"
   ]
  },
  {
   "cell_type": "code",
   "execution_count": 2,
   "metadata": {},
   "outputs": [],
   "source": [
    "from collections import defaultdict"
   ]
  },
  {
   "cell_type": "code",
   "execution_count": 12,
   "metadata": {},
   "outputs": [],
   "source": [
    "f = Input(8)\n",
    "data = f.read().split('\\n')[:-1]\n",
    "f.close()"
   ]
  },
  {
   "cell_type": "code",
   "execution_count": 6,
   "metadata": {},
   "outputs": [],
   "source": [
    "regs = defaultdict(lambda: 0)\n",
    "def parse(line):\n",
    "    laux = line.split(' ')\n",
    "    cond = laux[-3:]\n",
    "    cond[0] = \"regs['{}']\".format(cond[0])\n",
    "    if eval(' '.join(cond)):\n",
    "        if laux[1] == 'inc':\n",
    "            regs[laux[0]] += int(laux[2])\n",
    "        else:\n",
    "            regs[laux[0]] -= int(laux[2])\n",
    "    return 1\n"
   ]
  },
  {
   "cell_type": "code",
   "execution_count": 7,
   "metadata": {},
   "outputs": [],
   "source": [
    "for l in data:\n",
    "    parse(l)"
   ]
  },
  {
   "cell_type": "code",
   "execution_count": 10,
   "metadata": {},
   "outputs": [
    {
     "data": {
      "text/plain": [
       "3612"
      ]
     },
     "execution_count": 10,
     "metadata": {},
     "output_type": "execute_result"
    }
   ],
   "source": [
    "max(regs.values())"
   ]
  },
  {
   "cell_type": "markdown",
   "metadata": {},
   "source": [
    "## Challenge 2"
   ]
  },
  {
   "cell_type": "code",
   "execution_count": 11,
   "metadata": {},
   "outputs": [
    {
     "data": {
      "text/plain": [
       "3818"
      ]
     },
     "execution_count": 11,
     "metadata": {},
     "output_type": "execute_result"
    }
   ],
   "source": [
    "regs = defaultdict(lambda: 0)\n",
    "maxval = 0\n",
    "for l in data:\n",
    "    parse(l)\n",
    "    if max(regs.values()) > maxval:\n",
    "        maxval = max(regs.values())\n",
    "maxval"
   ]
  },
  {
   "cell_type": "markdown",
   "metadata": {},
   "source": [
    "# Day 9\n",
    "## Challenge 1 and 2"
   ]
  },
  {
   "cell_type": "code",
   "execution_count": 20,
   "metadata": {},
   "outputs": [],
   "source": [
    "f = Input(9)\n",
    "data = f.read()\n",
    "f.close()"
   ]
  },
  {
   "cell_type": "code",
   "execution_count": 22,
   "metadata": {},
   "outputs": [
    {
     "name": "stdout",
     "output_type": "stream",
     "text": [
      "10800\n",
      "4522\n"
     ]
    }
   ],
   "source": [
    "score = 0\n",
    "level = 0\n",
    "garb = 0\n",
    "garbcount = 0\n",
    "# data = \"{{<!!>},{<!!>},{<!!>},{<!!>}}\"\n",
    "i = 0\n",
    "while i < len(data):\n",
    "    if data[i] == \"!\":\n",
    "        i += 1\n",
    "    else:\n",
    "        if not garb:\n",
    "            if data[i] == \"{\":\n",
    "                level += 1\n",
    "                score += level\n",
    "            elif data[i] == \"}\":\n",
    "                level -= 1\n",
    "                if level < 0:\n",
    "                    level == 0\n",
    "            elif data[i] == \"<\":\n",
    "                garb = 1\n",
    "        else:\n",
    "            if data[i] == \">\":\n",
    "                garb = 0\n",
    "            else:\n",
    "                garbcount += 1\n",
    "    i += 1\n",
    "print(score)\n",
    "print(garbcount)"
   ]
  },
  {
   "cell_type": "markdown",
   "metadata": {},
   "source": [
    "# Day 10\n",
    "## Challenge 1"
   ]
  },
  {
   "cell_type": "code",
   "execution_count": 5,
   "metadata": {},
   "outputs": [
    {
     "data": {
      "text/plain": [
       "[197, 97, 204, 108, 1, 29, 5, 71, 0, 50, 2, 255, 248, 78, 254, 63]"
      ]
     },
     "execution_count": 5,
     "metadata": {},
     "output_type": "execute_result"
    }
   ],
   "source": [
    "f = Input(10)\n",
    "data = f.read().split(',')\n",
    "data = [int(d) for d in data]\n",
    "f.close()\n",
    "data"
   ]
  },
  {
   "cell_type": "code",
   "execution_count": 6,
   "metadata": {},
   "outputs": [
    {
     "name": "stdout",
     "output_type": "stream",
     "text": [
      "40132\n"
     ]
    }
   ],
   "source": [
    "seq = list(range(256))\n",
    "pos = 0\n",
    "sks = 0\n",
    "def myreverse(seq, i0, length):\n",
    "    nseq = []\n",
    "    for i in range(length):\n",
    "        nseq.append(seq[(i0+i)%len(seq)])\n",
    "    for i in range(length):\n",
    "        seq[(i0+i)%len(seq)] = list(reversed(nseq))[i]\n",
    "for l in data:\n",
    "    myreverse(seq, pos, l)\n",
    "    pos = (pos + l +sks)%len(seq)\n",
    "    sks += 1\n",
    "print(seq[0]*seq[1])"
   ]
  },
  {
   "cell_type": "markdown",
   "metadata": {},
   "source": [
    "## Challenge 2"
   ]
  },
  {
   "cell_type": "code",
   "execution_count": 7,
   "metadata": {},
   "outputs": [],
   "source": [
    "f = Input(10)\n",
    "data = f.read()[:-1]\n",
    "data = [ord(d) for d in data]\n",
    "f.close()\n",
    "data = data + [17, 31, 73, 47, 23]"
   ]
  },
  {
   "cell_type": "code",
   "execution_count": 10,
   "metadata": {},
   "outputs": [
    {
     "data": {
      "text/plain": [
       "'35b028fe2c958793f7d5a61d07a008c8'"
      ]
     },
     "execution_count": 10,
     "metadata": {},
     "output_type": "execute_result"
    }
   ],
   "source": [
    "import functools\n",
    "seq = list(range(256))\n",
    "pos = 0\n",
    "sks = 0\n",
    "for i in range(64):\n",
    "    for l in data:\n",
    "        myreverse(seq, pos, l)\n",
    "        pos = (pos + l +sks)%len(seq)\n",
    "        sks += 1\n",
    "dhash = []\n",
    "c = \"\"\n",
    "for i in range(16):\n",
    "    dhash += [functools.reduce(lambda a, b: a^b, seq[16*i:16*(i+1)])]\n",
    "    c+=format(dhash[i],'02x')\n",
    "\n",
    "c"
   ]
  },
  {
   "cell_type": "code",
   "execution_count": 34,
   "metadata": {},
   "outputs": [
    {
     "data": {
      "text/plain": [
       "'\\x10'"
      ]
     },
     "execution_count": 34,
     "metadata": {},
     "output_type": "execute_result"
    }
   ],
   "source": [
    "chr(16)"
   ]
  },
  {
   "cell_type": "code",
   "execution_count": 49,
   "metadata": {},
   "outputs": [
    {
     "data": {
      "text/plain": [
       "64"
      ]
     },
     "execution_count": 49,
     "metadata": {},
     "output_type": "execute_result"
    }
   ],
   "source": [
    "aux = [65, 27, 9, 1, 4, 3, 40, 50, 91, 7, 6, 0, 2, 5, 68, 22]\n",
    "functools.reduce(lambda a, b: a^b, aux)"
   ]
  },
  {
   "cell_type": "markdown",
   "metadata": {},
   "source": [
    "# Day 11\n",
    "## Challenge 1\n",
    "\n",
    "Learned hex coordinates from [this](https://www.redblobgames.com/grids/hexagons/)"
   ]
  },
  {
   "cell_type": "code",
   "execution_count": 5,
   "metadata": {},
   "outputs": [
    {
     "name": "stdout",
     "output_type": "stream",
     "text": [
      "812.0\n",
      "1603.0\n"
     ]
    }
   ],
   "source": [
    "\n",
    "# Copied from reddit, originally used A* with complex numbers, this is much more elegant (learned about hex grids)\n",
    "\n",
    "f = Input(11)\n",
    "data = f.read()[:-1].split(',')\n",
    "x = 0\n",
    "y = 0\n",
    "z = 0\n",
    "f.close()\n",
    "dists = []\n",
    "\n",
    "for d in data:\n",
    "    if d == \"n\":\n",
    "        y += 1\n",
    "        z -= 1\n",
    "    elif d == \"s\":\n",
    "        y -= 1\n",
    "        z += 1\n",
    "    elif d == \"ne\":\n",
    "        x += 1\n",
    "        z -= 1\n",
    "    elif d == \"sw\":\n",
    "        x -= 1\n",
    "        z += 1\n",
    "    elif d == \"nw\":\n",
    "        x -= 1\n",
    "        y += 1\n",
    "    elif d == \"se\":\n",
    "        x += 1\n",
    "        y -= 1\n",
    "    dists.append((abs(x) + abs(y) + abs(z)) / 2)\n",
    "\n",
    "print ((abs(x) + abs(y) + abs(z)) / 2)\n",
    "print(max(dists))\n",
    "# Hex coordinates are cool."
   ]
  },
  {
   "cell_type": "markdown",
   "metadata": {},
   "source": [
    "# Day 12\n",
    "## Challenge 1"
   ]
  },
  {
   "cell_type": "code",
   "execution_count": 3,
   "metadata": {},
   "outputs": [],
   "source": [
    "from collections import defaultdict\n",
    "f = Input(12)\n",
    "data = f.read().split('\\n')[:-1]\n",
    "f.close()\n",
    "data = [d.split(' <-> ') for d in data]\n",
    "conns = {}\n",
    "for d in data:\n",
    "    conns[int(d[0])] = [int(l) for l in d[1].split(', ')]\n",
    "\n"
   ]
  },
  {
   "cell_type": "code",
   "execution_count": 11,
   "metadata": {},
   "outputs": [
    {
     "name": "stdout",
     "output_type": "stream",
     "text": [
      "378\n"
     ]
    }
   ],
   "source": [
    "conn0 = set(conns[0])\n",
    "l = 0\n",
    "laux = len(conn0)\n",
    "currlevel = conns[0][:]\n",
    "newlevel = []\n",
    "while laux > l:\n",
    "    l = laux\n",
    "    for num in currlevel:\n",
    "        conn0.update(set(conns[num]))\n",
    "        newlevel += conns[num]\n",
    "    newlevel = list(set(newlevel))\n",
    "    currlevel = newlevel[:]\n",
    "    newlevel = []\n",
    "    laux = len(conn0)\n",
    "\n",
    "print(l)\n"
   ]
  },
  {
   "cell_type": "markdown",
   "metadata": {},
   "source": [
    "## Challenge 2"
   ]
  },
  {
   "cell_type": "code",
   "execution_count": 27,
   "metadata": {},
   "outputs": [
    {
     "name": "stdout",
     "output_type": "stream",
     "text": [
      "204\n"
     ]
    }
   ],
   "source": [
    "visited = len(conns)*[0]\n",
    "conncomp = 0\n",
    "def dfs(num):\n",
    "    for connum in conns[num]:\n",
    "        if not visited[connum]:\n",
    "            visited[connum] = 1\n",
    "            dfs(connum)\n",
    "\n",
    "for num in conns:\n",
    "    if not visited[num]:\n",
    "        visited[num] = 1\n",
    "        conncomp += 1\n",
    "        dfs(num)\n",
    "print(conncomp)"
   ]
  },
  {
   "cell_type": "markdown",
   "metadata": {},
   "source": [
    "# Day 13\n",
    "## Challenge 1"
   ]
  },
  {
   "cell_type": "code",
   "execution_count": 25,
   "metadata": {},
   "outputs": [
    {
     "data": {
      "text/plain": [
       "1728"
      ]
     },
     "execution_count": 25,
     "metadata": {},
     "output_type": "execute_result"
    }
   ],
   "source": [
    "from collections import defaultdict\n",
    "f = Input(13)\n",
    "data = f.read().split('\\n')[:-1]\n",
    "# data = ['0: 3', '1: 2', '4: 4', '6: 4']\n",
    "f.close()\n",
    "scann = defaultdict(lambda : 0)\n",
    "for d in data:\n",
    "    scann[int(d.split(': ')[0])] = int(d.split(': ')[1])\n",
    "n = max(scann.keys()) + 1\n",
    "severity = 0\n",
    "for j in scann:\n",
    "    if j%((scann[j]-1)*2) == 0:\n",
    "        severity += j*scann[j]\n",
    "severity"
   ]
  },
  {
   "cell_type": "markdown",
   "metadata": {},
   "source": [
    "## Challenge 2"
   ]
  },
  {
   "cell_type": "code",
   "execution_count": 26,
   "metadata": {},
   "outputs": [
    {
     "name": "stdout",
     "output_type": "stream",
     "text": [
      "3946838\n"
     ]
    }
   ],
   "source": [
    "delay = 0\n",
    "while delay > -1:\n",
    "    severity = 0 \n",
    "    for j in scann:\n",
    "        if (delay+j)%((scann[j]-1)*2) == 0:\n",
    "            severity += j*scann[j] + 1\n",
    "            if severity > 0:\n",
    "                break\n",
    "    if severity == 0:\n",
    "        print(delay)\n",
    "        break\n",
    "    delay = delay+1"
   ]
  },
  {
   "cell_type": "markdown",
   "metadata": {},
   "source": [
    "# Day 14\n",
    "## Challenge 1\n",
    "Note: If hash is any good, bits should look like random with $p = 0.5$. Therefore sum of squares with a one should be around $128^2 / 2 = 8192$. \n",
    "\n",
    "(Note2: The hash has other problems, but also cool stuff: [see this](https://www.reddit.com/r/adventofcode/comments/7it50b/day_10_part_2_cryptanalysis/))"
   ]
  },
  {
   "cell_type": "code",
   "execution_count": 100,
   "metadata": {},
   "outputs": [
    {
     "name": "stdout",
     "output_type": "stream",
     "text": [
      "8194, yay!\n"
     ]
    }
   ],
   "source": [
    "data = 'uugsqrei'\n",
    "squares = []\n",
    "for i in range(128):\n",
    "    hsh = knothash(data+'-'+str(i), frmt='08b')\n",
    "    squares += [[int(h) for h in hsh]]\n",
    "squares = np.array(squares)\n",
    "print(\"{}, yay!\".format(np.sum(squares)))"
   ]
  },
  {
   "cell_type": "code",
   "execution_count": 91,
   "metadata": {},
   "outputs": [
    {
     "data": {
      "text/plain": [
       "1141"
      ]
     },
     "execution_count": 91,
     "metadata": {},
     "output_type": "execute_result"
    }
   ],
   "source": [
    "indices = np.where(squares == 1)\n",
    "indices = list(np.array(indices).T)\n",
    "indices = [tuple(i) for i in indices] # Note: Sparse version of matrix\n",
    "visited = [0]*len(indices) # I'm basically looking at connected components without creating the dictionary first\n",
    "def matdfs(pos):\n",
    "    for neigh in neighbors4(indices[pos]):\n",
    "        try:\n",
    "            npos = indices.index(neigh)\n",
    "            if not visited[npos]:\n",
    "                visited[npos] = 1\n",
    "                matdfs(npos)\n",
    "        except ValueError as e:\n",
    "            pass\n",
    "conncomp = 0\n",
    "for ind in range(len(indices)):\n",
    "    if not visited[ind]:\n",
    "        visited[ind] = 1\n",
    "        conncomp += 1\n",
    "        matdfs(ind)\n",
    "conncomp"
   ]
  },
  {
   "cell_type": "markdown",
   "metadata": {},
   "source": [
    "Looking a bit at how random are each of these bits?"
   ]
  },
  {
   "cell_type": "code",
   "execution_count": 104,
   "metadata": {},
   "outputs": [
    {
     "data": {
      "image/png": "[encoded data removed]",
      "text/plain": [
       "<matplotlib.figure.Figure at 0x7f0668512fd0>"
      ]
     },
     "metadata": {},
     "output_type": "display_data"
    }
   ],
   "source": [
    "import matplotlib.pyplot as plt\n",
    "\n",
    "plt.hist(np.sum(squares, axis=0))\n",
    "plt.show()"
   ]
  },
  {
   "cell_type": "code",
   "execution_count": 108,
   "metadata": {},
   "outputs": [
    {
     "data": {
      "image/png": "[encoded data removed]",
      "text/plain": [
       "<matplotlib.figure.Figure at 0x7f06683a8c88>"
      ]
     },
     "metadata": {},
     "output_type": "display_data"
    }
   ],
   "source": [
    "plt.plot(np.sum(squares, axis = 1)/128)\n",
    "plt.show()"
   ]
  },
  {
   "cell_type": "markdown",
   "metadata": {},
   "source": [
    "# Day 15\n",
    "## Challenge 1"
   ]
  },
  {
   "cell_type": "code",
   "execution_count": 18,
   "metadata": {},
   "outputs": [
    {
     "data": {
      "text/plain": [
       "626"
      ]
     },
     "execution_count": 18,
     "metadata": {},
     "output_type": "execute_result"
    }
   ],
   "source": [
    "genA0 = 679\n",
    "genB0 = 771\n",
    "factA = 16807\n",
    "factB = 48271\n",
    "div = 2147483647\n",
    "\n",
    "def genA():\n",
    "    x = genA0\n",
    "    while True:\n",
    "        x *= factA\n",
    "        x %= div\n",
    "        yield x\n",
    "def genB():\n",
    "    x = genB0\n",
    "    while True:\n",
    "        x *= factB\n",
    "        x %= div\n",
    "        yield x\n",
    "        \n",
    "A = genA()\n",
    "B = genB()\n",
    "counteq = 0\n",
    "for i in range(40*10**6):\n",
    "    a = next(A)\n",
    "    b = next(B)\n",
    "    if (a & 0xFFFF) == (b & 0xFFFF):\n",
    "        counteq+=1\n",
    "\n",
    "counteq"
   ]
  },
  {
   "cell_type": "code",
   "execution_count": 20,
   "metadata": {},
   "outputs": [
    {
     "data": {
      "text/plain": [
       "306"
      ]
     },
     "execution_count": 20,
     "metadata": {},
     "output_type": "execute_result"
    }
   ],
   "source": [
    "newcounteq = 0\n",
    "judgecount = 0\n",
    "\n",
    "def genA():\n",
    "    x = genA0\n",
    "    while True:\n",
    "        x *= factA\n",
    "        x %= div\n",
    "        if x % 4 == 0:\n",
    "            yield x\n",
    "\n",
    "def genB():\n",
    "    x = genB0\n",
    "    while True:\n",
    "        x *= factB\n",
    "        x %= div\n",
    "        if x % 8 == 0:\n",
    "            yield x\n",
    "\n",
    "A = genA()\n",
    "B = genB()\n",
    "for jc in range(5*10**6):\n",
    "    a = next(A)\n",
    "    b = next(B)\n",
    "    newcounteq += ((a & 0xFFFF) == (b & 0xFFFF))\n",
    "newcounteq"
   ]
  },
  {
   "cell_type": "markdown",
   "metadata": {},
   "source": [
    "# Day 16\n",
    "## Challenge 1"
   ]
  },
  {
   "cell_type": "code",
   "execution_count": 218,
   "metadata": {},
   "outputs": [],
   "source": [
    "import string\n",
    "f = Input(16)\n",
    "data = f.read()[:-1].split(',')\n",
    "f.close()"
   ]
  },
  {
   "cell_type": "code",
   "execution_count": 222,
   "metadata": {},
   "outputs": [],
   "source": [
    "class Permutation(object):\n",
    "    def __init__(self, lst0, lst):\n",
    "        self.ref = lst0[:]\n",
    "        self.l = len(lst0)\n",
    "        self.perm = {lst0[i]:lst[i] for i in range(len(lst0))}\n",
    "    def t(self, i1, i2):\n",
    "        aux1, aux2 = self.perm[i1], self.perm[i2]\n",
    "        self.perm[i1], self.perm[i2] = aux2, aux1\n",
    "    \n",
    "    def composeright(self, perm2):\n",
    "        self.perm = {i:perm2.perm[self.perm[i]] for i in self.perm}\n",
    "    \n",
    "    def composeleft(self, perm2):\n",
    "        self.perm = {i:self.perm[perm2.perm[i]] for i in perm2.perm}\n",
    "    def __repr__(self):\n",
    "        return self.perm.__repr__()\n",
    "\n",
    "def nextstr(stri, permind, permstr):\n",
    "    straux = list(stri)\n",
    "    straux = [permstr.perm[c] for c in straux]\n",
    "    return ''.join(straux[permind.perm[i]] for i in permind.perm)\n",
    "    "
   ]
  },
  {
   "cell_type": "code",
   "execution_count": 223,
   "metadata": {},
   "outputs": [
    {
     "name": "stdout",
     "output_type": "stream",
     "text": [
      "{0: 15, 1: 1, 2: 12, 3: 2, 4: 8, 5: 7, 6: 5, 7: 14, 8: 6, 9: 4, 10: 13, 11: 10, 12: 3, 13: 0, 14: 11, 15: 9} {'a': 'l', 'b': 'a', 'c': 'd', 'd': 'e', 'e': 'f', 'f': 'b', 'g': 'i', 'h': 'k', 'i': 'g', 'j': 'j', 'k': 'c', 'l': 'o', 'm': 'm', 'n': 'p', 'o': 'h', 'p': 'n'}\n"
     ]
    }
   ],
   "source": [
    "# Generate permutations\n",
    "permind = Permutation(range(l), range(l))\n",
    "permstr = Permutation(list(string.ascii_lowercase[:l]), list(string.ascii_lowercase[:l]))\n",
    "\n",
    "for inst in data:\n",
    "    if inst[0] == 's':\n",
    "        off = int(inst[1:])\n",
    "        auxperm = Permutation(range(l), [(i - off)%l for i in range(l)])\n",
    "        permind.composeleft(auxperm)\n",
    "    elif inst[0] == 'x':\n",
    "        i1, i2 = [int(i) for i in inst[1:].split('/')]\n",
    "        permind.t(i1, i2)\n",
    "    elif inst[0] == 'p':\n",
    "        c1, c2 = [c for c in inst[1:].split('/')]\n",
    "        for (k,v) in permstr.perm.items():\n",
    "            if v == c1:\n",
    "                permstr.perm[k] = c2\n",
    "            if v == c2:\n",
    "                permstr.perm[k] = c1\n",
    "\n",
    "print(permind, permstr)\n"
   ]
  },
  {
   "cell_type": "code",
   "execution_count": 224,
   "metadata": {},
   "outputs": [
    {
     "name": "stdout",
     "output_type": "stream",
     "text": [
      "namdgkbhifpceloj\n"
     ]
    }
   ],
   "source": [
    "str0 = string.ascii_lowercase[:l]\n",
    "print(nextstr(str0, permind, permstr))"
   ]
  },
  {
   "cell_type": "markdown",
   "metadata": {},
   "source": [
    "## Challenge 2\n"
   ]
  },
  {
   "cell_type": "code",
   "execution_count": 228,
   "metadata": {},
   "outputs": [
    {
     "name": "stdout",
     "output_type": "stream",
     "text": [
      "60\n"
     ]
    }
   ],
   "source": [
    "str1 = nextstr(str0, permind, permstr)\n",
    "cyc = 1\n",
    "while str1 != str0:\n",
    "    str1 = nextstr(str1, permind, permstr)\n",
    "    cyc+=1\n",
    "print(cyc)"
   ]
  },
  {
   "cell_type": "code",
   "execution_count": 229,
   "metadata": {},
   "outputs": [
    {
     "name": "stdout",
     "output_type": "stream",
     "text": [
      "ibmchklnofjpdeag\n"
     ]
    }
   ],
   "source": [
    "numreps = 10**9 % cyc\n",
    "for i in range(numreps):\n",
    "    str1 = nextstr(str1, permind, permstr)\n",
    "print(str1)"
   ]
  },
  {
   "cell_type": "markdown",
   "metadata": {},
   "source": [
    "# Day 17\n",
    "## Challenge 1"
   ]
  },
  {
   "cell_type": "code",
   "execution_count": 231,
   "metadata": {},
   "outputs": [
    {
     "name": "stdout",
     "output_type": "stream",
     "text": [
      "1306\n"
     ]
    }
   ],
   "source": [
    "def spinlock(lst, val, curpos, step=324):\n",
    "    i = (curpos + step) % len(lst) + 1\n",
    "    lst.insert(i, val)\n",
    "    return i\n",
    "\n",
    "lst = [0]\n",
    "curpos = 0\n",
    "\n",
    "for i in range(1, 2018):\n",
    "    curpos = spinlock(lst, i, curpos)\n",
    "print(lst[curpos+1])\n"
   ]
  },
  {
   "cell_type": "markdown",
   "metadata": {},
   "source": [
    "## Challenge 2\n",
    "Looking for last time in 50 million iterations in which `curpos == 1`"
   ]
  },
  {
   "cell_type": "code",
   "execution_count": 232,
   "metadata": {},
   "outputs": [
    {
     "data": {
      "text/plain": [
       "20430489"
      ]
     },
     "execution_count": 232,
     "metadata": {},
     "output_type": "execute_result"
    }
   ],
   "source": [
    "curpos = 0\n",
    "l = 1\n",
    "step = 324\n",
    "curval = 0\n",
    "for i in range(50*10**6):\n",
    "    curpos = (curpos + step) % l + 1 \n",
    "    l += 1\n",
    "    if curpos == 1:\n",
    "        curval = i+1\n",
    "curval"
   ]
  },
  {
   "cell_type": "markdown",
   "metadata": {},
   "source": [
    "# Day 18\n",
    "## Challenge 1"
   ]
  },
  {
   "cell_type": "code",
   "execution_count": 291,
   "metadata": {},
   "outputs": [],
   "source": [
    "from collections import defaultdict\n",
    "f = Input(18)\n",
    "data = f.read().split('\\n')[:-1]\n",
    "f.close()\n",
    "insts = [d.split(' ') for d in data]\n"
   ]
  },
  {
   "cell_type": "code",
   "execution_count": 311,
   "metadata": {},
   "outputs": [
    {
     "name": "stdout",
     "output_type": "stream",
     "text": [
      "2951\n"
     ]
    }
   ],
   "source": [
    "i = 0\n",
    "regs = defaultdict(lambda : 0)\n",
    "def run(insts, i, regs):\n",
    "    def getval(k):\n",
    "        try:\n",
    "            return int(k)\n",
    "        except ValueError as e:\n",
    "            return regs[k]\n",
    "    ret = np.nan\n",
    "    isrcv = 0\n",
    "    newi = i+1\n",
    "    if insts[i][0] == 'rcv':\n",
    "        if regs[insts[i][1]] > 0:\n",
    "            ret = regs['last']\n",
    "            isrcv = 1\n",
    "    elif insts[i][0] == 'snd':\n",
    "        regs['last'] = regs[insts[i][1]]\n",
    "    elif insts[i][0] == 'set':\n",
    "        regs[insts[i][1]] = getval(insts[i][2])\n",
    "    elif insts[i][0] == 'add':\n",
    "        regs[insts[i][1]] += getval(insts[i][2])\n",
    "    elif insts[i][0] == 'mul':\n",
    "        regs[insts[i][1]] *= getval(insts[i][2])\n",
    "    elif insts[i][0] == 'mod':\n",
    "        try:\n",
    "            regs[insts[i][1]] %= getval(insts[i][2])\n",
    "        except ZeroDivisionError as e:\n",
    "            pass\n",
    "    elif insts[i][0] == 'jgz':\n",
    "        if regs[insts[i][1]] > 0:\n",
    "            newi = i + getval(insts[i][2])\n",
    "    return [newi, ret, isrcv]\n",
    "while i < len(insts):\n",
    "    [i, ret, isrcv] = run(insts, i, regs)\n",
    "    if isrcv:\n",
    "        print(ret)\n",
    "        break"
   ]
  },
  {
   "cell_type": "markdown",
   "metadata": {},
   "source": [
    "## Challenge 2"
   ]
  },
  {
   "cell_type": "code",
   "execution_count": 310,
   "metadata": {
    "scrolled": true
   },
   "outputs": [
    {
     "name": "stdout",
     "output_type": "stream",
     "text": [
      "7366\n"
     ]
    }
   ],
   "source": [
    "from collections import deque\n",
    "i0 = 0\n",
    "i1 = 0\n",
    "regs0 = defaultdict(lambda : 0)\n",
    "regs1 = defaultdict(lambda : 0)\n",
    "regs0['p'] = 0\n",
    "regs1['p'] = 1\n",
    "regs0['buf'] = deque([])\n",
    "regs1['buf'] = deque([])\n",
    "sent1 = 0\n",
    "wait0 = 0\n",
    "wait1 = 0\n",
    "def run(insts, i, regs):\n",
    "    def getval(k):\n",
    "        try:\n",
    "            return int(k)\n",
    "        except ValueError as e:\n",
    "            return regs[k]\n",
    "    ret = np.nan\n",
    "    regs['wait'] = 0\n",
    "    newi = i+1\n",
    "    if insts[i][0] == 'rcv':\n",
    "        try:\n",
    "            regs[insts[i][1]] = regs['buf'].popleft()\n",
    "        except IndexError:\n",
    "            newi = i\n",
    "            regs['wait'] = 1\n",
    "    elif insts[i][0] == 'snd':\n",
    "        ret = getval(insts[i][1])\n",
    "    elif insts[i][0] == 'set':\n",
    "        regs[insts[i][1]] = getval(insts[i][2])\n",
    "    elif insts[i][0] == 'add':\n",
    "        regs[insts[i][1]] += getval(insts[i][2])\n",
    "    elif insts[i][0] == 'mul':\n",
    "        regs[insts[i][1]] *= getval(insts[i][2])\n",
    "    elif insts[i][0] == 'mod':\n",
    "        try:\n",
    "            regs[insts[i][1]] %= getval(insts[i][2])\n",
    "        except ZeroDivisionError as e:\n",
    "            pass\n",
    "    elif insts[i][0] == 'jgz':\n",
    "        if getval(insts[i][1]) > 0:\n",
    "            newi = i + getval(insts[i][2])\n",
    "    return [newi, ret]\n",
    "\n",
    "while not (regs0['wait'] and regs1['wait']):\n",
    "    while not regs0['wait']:\n",
    "        [i0, ret0] = run(insts, i0, regs0)\n",
    "        if not np.isnan(ret0):\n",
    "            regs1['buf'].append(ret0)\n",
    "    if len(regs1['buf']) > 0:\n",
    "        regs1['wait'] = 0\n",
    "    while not regs1['wait']:\n",
    "        [i1, ret1] = run(insts, i1, regs1)\n",
    "        if not np.isnan(ret1):\n",
    "            regs0['buf'].append(ret1)\n",
    "            sent1 += 1\n",
    "    if len(regs0['buf']) > 0:\n",
    "        regs0['wait'] = 0\n",
    "print(sent1)"
   ]
  },
  {
   "cell_type": "markdown",
   "metadata": {},
   "source": [
    "# Day 19\n",
    "## Challenge 1 and 2"
   ]
  },
  {
   "cell_type": "code",
   "execution_count": 32,
   "metadata": {},
   "outputs": [],
   "source": [
    "import string\n",
    "\n",
    "f = Input(19)\n",
    "data = f.read().split('\\n')[:-1]\n",
    "f.close()\n",
    "def findNextStep(data, pos, drc):\n",
    "    if data[pos[0]][pos[1]] == '+':\n",
    "        drc1 = (drc[1], drc[0])\n",
    "        drc2 = (-drc[1], -drc[0])\n",
    "        try:\n",
    "            if data[pos[0] + drc1[0]][pos[1]+drc1[1]] in '-|+'+string.ascii_uppercase:\n",
    "                nxt = (pos[0]+drc1[0], pos[1]+drc1[1])\n",
    "                return [nxt, drc1]\n",
    "            elif data[pos[0] + drc2[0]][pos[1]+drc2[1]] in '-|+'+string.ascii_uppercase:\n",
    "                nxt = (pos[0]+drc2[0], pos[1]+drc2[1])\n",
    "                return [nxt, drc2]\n",
    "            else:\n",
    "                return [pos, (0,0)]\n",
    "        except IndexError:\n",
    "            try:\n",
    "                if data[pos[0] + drc2[0]][pos[1]+drc2[1]] in '-|+'+string.ascii_uppercase:\n",
    "                    nxt = (pos[0]+drc2[0], pos[1]+drc2[1])\n",
    "                    return [nxt, drc2]\n",
    "                else:\n",
    "                    return [pos, (0,0)]\n",
    "            except IndexError:\n",
    "                return [pos, (0,0)]\n",
    "    else:\n",
    "        try:\n",
    "            if data[pos[0]+drc[0]][pos[1]+drc[1]] in '-|+'+string.ascii_uppercase:\n",
    "                nxt = (pos[0] + drc[0], pos[1]+drc[1])\n",
    "                return [nxt, drc]\n",
    "            else:\n",
    "                return [pos, (0,0)]\n",
    "        except IndexError:\n",
    "            return [pos, (0,0)]"
   ]
  },
  {
   "cell_type": "code",
   "execution_count": 33,
   "metadata": {
    "scrolled": true
   },
   "outputs": [
    {
     "name": "stdout",
     "output_type": "stream",
     "text": [
      "XYFDJNRCQA\n",
      "17450\n"
     ]
    }
   ],
   "source": [
    "start = (0, data[0].index('|'))\n",
    "drc = (1,0)\n",
    "pos = start\n",
    "ltrs = ''\n",
    "stps = 0\n",
    "while drc != (0,0):\n",
    "    stps += abs(sum((1,0)))\n",
    "    if data[pos[0]][pos[1]] in string.ascii_uppercase:\n",
    "        ltrs+=data[pos[0]][pos[1]]\n",
    "    pos, drc = findNextStep(data, pos, drc)\n",
    "print(ltrs)\n",
    "print(stps)"
   ]
  },
  {
   "cell_type": "markdown",
   "metadata": {},
   "source": [
    "# Day 20\n",
    "## Challenge 1"
   ]
  },
  {
   "cell_type": "code",
   "execution_count": 203,
   "metadata": {},
   "outputs": [],
   "source": [
    "f = Input(20)\n",
    "data = f.read()[:-1].split('\\n')\n",
    "f.close()\n",
    "data = [d.split(', ') for d in data]\n",
    "poss, vels, accs = [[d[0] for d in data], [d[1] for d in data], [d[2] for d in data]]\n",
    "poss = [p[3:-1].split(',') for p in poss]\n",
    "poss = [[int(p) for p in pos] for pos in poss]\n",
    "vels = [vel[3:-1].split(',') for vel in vels]\n",
    "vels = [[int(v) for v in vel] for vel in vels]\n",
    "accs = [acc[3:-1].split(',') for acc in accs]\n",
    "accs = [[int(a) for a in acc] for acc in accs]\n",
    "parts = {i: [np.array(poss[i]).astype(int), np.array(vels[i]).astype(int), np.array(accs[i]).astype(int)] for i in range(len(poss))}"
   ]
  },
  {
   "cell_type": "code",
   "execution_count": 204,
   "metadata": {},
   "outputs": [
    {
     "name": "stdout",
     "output_type": "stream",
     "text": [
      "[158, 243]\n",
      "158 200 5261\n",
      "243 72 2612\n"
     ]
    }
   ],
   "source": [
    "def l2norm(vec):\n",
    "    return (sum(v**2 for v in vec))**0.5\n",
    "def dotprod(vec1,vec2):\n",
    "    return sum(vec1[i]*vec2[i] for i in range(len(vec2)))\n",
    "\n",
    "absaccs = {i: l2norm(accs[i]) for i in range(len(accs))}\n",
    "ind = []\n",
    "for i in absaccs:\n",
    "    if absaccs[i] == min(absaccs.values()):\n",
    "        ind.append(i)\n",
    "print(ind)\n",
    "for i in ind:\n",
    "    print(i, dotprod(parts[i][1], parts[i][2]), sum(abs(p) for p in parts[i][0]))\n"
   ]
  },
  {
   "cell_type": "markdown",
   "metadata": {},
   "source": [
    "## Challenge 2\n",
    "Particle $i$ at time $t$ has position $p(i)_0 + v(i)_0 t + \\frac{t(t+1)}{2} a(i)_0 = p(i)_t$.\n",
    "PROOF:\n",
    "\n",
    "$v(i)_t = v(i)_{t-1} + a(i)_t = v(i)_0 + (t-1)a(i)_0 + a(i)_0 = v(i)_0 + ta(i)_0$\n",
    "\n",
    "$p(i)_t = p(i)_{t-1} + v(i)_t = p(i)_0 + v(i)_0 (t-1) + (t-1)t/2 a(i)_0 + v(i)_0 + ta(i)_0$ \n",
    "\n",
    "$p(i)_t = p(i)_0 + t v(i)_0 + t(t+1)/2 a(i)_0$\n",
    "\n",
    "$p(i)_t = p(i)_0 + (v(i)_0 + \\frac{a(i)_0}{2})t + \\frac{a(i)_0}{2}t^2$.\n",
    "\n",
    "Thus we need to solve:\n",
    "\n",
    "$p(i)_0 - p(j)_0 + (v(i)_0 - v(j)_0 + \\frac{a(i)_0 - a(j)_0}{2})t + \\frac{a(i)_0 - a(j)_0}{2}t^2 = 0$\n",
    "\n",
    "or equivalently:\n",
    "\n",
    "$2(p(i)_0 - p(j)_0) + (2(v(i)_0 - v(j)_0) + a(i)_0 - a(j)_0)t + (a(i)_0 - a(j)_0)t^2 = 0$\n",
    "\n",
    "to find the time of collision.\n",
    "\n",
    "If the discriminant is not a perfect square, then there can be no solution. To do that we need to compute the integer square root of the discriminant (in fact, of 4 times the discriminant, to avoid dividing by 2)."
   ]
  },
  {
   "cell_type": "code",
   "execution_count": 208,
   "metadata": {},
   "outputs": [],
   "source": [
    "from collections import defaultdict\n",
    "def intsquareroot(n):\n",
    "    if n < 0:\n",
    "        return False, -1\n",
    "    if n in [0,1]:\n",
    "        return True, n\n",
    "    x = n // 2\n",
    "    seen = set([x])\n",
    "    while x * x != n:\n",
    "        x = (x + (n // x)) // 2\n",
    "        if x in seen: \n",
    "            return False, x\n",
    "        seen.add(x)\n",
    "    return True, x\n",
    "\n",
    "def posattimet(particles, i, t):\n",
    "    return particles[i][0] + t*particles[i][1] + t*(t+1)/2*particles[i][2]\n",
    "def collisiontime(particles, i, j):\n",
    "    posdif = particles[i][0] - particles[j][0]\n",
    "    veldif = particles[i][1] - particles[j][1]\n",
    "    accdif = particles[i][2] - particles[j][2]\n",
    "    # Multiply eq. by two to avoid fractions\n",
    "    a = accdif[0] # a' = a/2\n",
    "    b = 2*veldif[0] + accdif[0] # b' = b/2\n",
    "    c = 2*posdif[0] # c' = c/2\n",
    "    disc = b**2 - 4*a*c\n",
    "    collt = []\n",
    "    if a == 0:\n",
    "        if b == 0:\n",
    "            return [-1]\n",
    "        t = -c/b\n",
    "        if t == int(t) and t > 0:\n",
    "            collt.append(int(t))\n",
    "        else:\n",
    "            return [-1]\n",
    "    else:\n",
    "        issq, x = intsquareroot(disc)\n",
    "        if not issq:\n",
    "            return [-1]\n",
    "        else:\n",
    "            t1, t2 = (x - b)/(2*a), (-x - b)/(2*a)\n",
    "            if t1 == int(t1) and t1 > 0:\n",
    "                collt.append(int(t1))\n",
    "            if t2 == int(t2) and t2 > 0:\n",
    "                collt.append(int(t2))\n",
    "            if len(collt) == 0:\n",
    "                return [-1]\n",
    "    collt = set(collt)\n",
    "    collret = []\n",
    "    for t in collt:        \n",
    "        if (posattimet(particles, i, t) == posattimet(particles, j, t)).all():\n",
    "            collret.append(t)\n",
    "\n",
    "    if len(collret) == 0:\n",
    "            return [-1]\n",
    "    return collret\n",
    "        "
   ]
  },
  {
   "cell_type": "code",
   "execution_count": 209,
   "metadata": {},
   "outputs": [],
   "source": [
    "colls = defaultdict(lambda : [])\n",
    "for i in parts:\n",
    "    for j in range(i+1, len(parts)):\n",
    "        colt = collisiontime(parts, i, j)\n",
    "        for t in colt:\n",
    "            if t > -1:\n",
    "                colls[t].append((i,j))"
   ]
  },
  {
   "cell_type": "code",
   "execution_count": 211,
   "metadata": {},
   "outputs": [
    {
     "name": "stdout",
     "output_type": "stream",
     "text": [
      "648\n"
     ]
    }
   ],
   "source": [
    "pparts = parts.copy()\n",
    "for t in sorted(colls.keys()):\n",
    "    nextdel = []\n",
    "    for i,j in colls[t]:\n",
    "        if i in pparts and j in pparts:\n",
    "            nextdel += [i,j]\n",
    "    for i in set(nextdel):\n",
    "        del pparts[i]\n",
    "print(len(pparts))"
   ]
  },
  {
   "cell_type": "code",
   "execution_count": null,
   "metadata": {},
   "outputs": [],
   "source": []
  }
 ],
 "metadata": {
  "kernelspec": {
   "display_name": "Python 2",
   "language": "python",
   "name": "python2"
  },
  "language_info": {
   "codemirror_mode": {
    "name": "ipython",
    "version": 3
   },
   "file_extension": ".py",
   "mimetype": "text/x-python",
   "name": "python",
   "nbconvert_exporter": "python",
   "pygments_lexer": "ipython3",
   "version": "3.6.3"
  }
 },
 "nbformat": 4,
 "nbformat_minor": 1
}

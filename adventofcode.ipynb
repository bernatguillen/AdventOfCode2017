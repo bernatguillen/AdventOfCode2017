{
 "cells": [
  {
   "cell_type": "markdown",
   "metadata": {
    "collapsed": true
   },
   "source": [
    "# Utility functions (from P. Norvig)"
   ]
  },
  {
   "cell_type": "code",
   "execution_count": 1,
   "metadata": {},
   "outputs": [],
   "source": [
    "# Python 3.x\n",
    "import re\n",
    "import numpy as np\n",
    "import math\n",
    "import urllib.request\n",
    "\n",
    "from collections import Counter, defaultdict, namedtuple, deque\n",
    "from functools   import lru_cache\n",
    "from itertools   import permutations, combinations, chain, cycle, product, islice\n",
    "from heapq       import heappop, heappush\n",
    "\n",
    "def Input(day):\n",
    "    \"Open this day's input file.\"\n",
    "    filename = './inputs/input{}'.format(day)\n",
    "    try:\n",
    "        return open(filename)\n",
    "    except FileNotFoundError:\n",
    "        return urllib.request.urlopen(\"http://adventofcode.com/2017/day/{}/input\".format(day))\n",
    "\n",
    "def transpose(matrix): return zip(*matrix)\n",
    "\n",
    "def first(iterable): return next(iter(iterable))\n",
    "\n",
    "def nth(iterable, n, default=None):\n",
    "    \"Returns the nth item of iterable, or a default value\"\n",
    "    return next(islice(iterable, n, None), default)\n",
    "\n",
    "cat = ''.join\n",
    "\n",
    "empty   = frozenset() # Empty set\n",
    "inf = float('inf')\n",
    "BIG = 10 ** 999\n",
    "\n",
    "def grep(pattern, lines):\n",
    "    \"Print lines that match pattern.\"\n",
    "    for line in lines:\n",
    "        if re.search(pattern, line):\n",
    "            print(line)\n",
    "\n",
    "def groupby(iterable, key=lambda it: it):\n",
    "    \"Return a dic whose keys are key(it) and whose values are all the elements of iterable with that key.\"\n",
    "    dic = defaultdict(list)\n",
    "    for it in iterable:\n",
    "        dic[key(it)].append(it)\n",
    "    return dic\n",
    "\n",
    "def powerset(iterable):\n",
    "    \"Yield all subsets of items.\"\n",
    "    items = list(iterable)\n",
    "    for r in range(len(items)+1):\n",
    "        for c in combinations(items, r):\n",
    "            yield c\n",
    "\n",
    "# 2-D points implemented using (x, y) tuples\n",
    "def X(point): return point[0]\n",
    "def Y(point): return point[1]\n",
    "\n",
    "def neighbors4(point): \n",
    "    \"The four neighbors (without diagonals).\"\n",
    "    x, y = point\n",
    "    return ((x+1, y), (x-1, y), (x, y+1), (x, y-1))\n",
    "\n",
    "def neighbors8(point): \n",
    "    \"The eight neighbors (with diagonals).\"\n",
    "    x, y = point \n",
    "    return ((x+1, y), (x-1, y), (x, y+1), (x, y-1),\n",
    "            (x+1, y+1), (x-1, y-1), (x+1, y-1), (x-1, y+1))\n",
    "\n",
    "def cityblock_distance(p, q=(0, 0)): \n",
    "    \"City block distance between two points.\"\n",
    "    return abs(X(p) - X(q)) + abs(Y(p) - Y(q))\n",
    "\n",
    "def euclidean_distance(p, q=(0, 0)): \n",
    "    \"Euclidean (hypotenuse) distance between two points.\"\n",
    "    return math.hypot(X(p) - X(q), Y(p) - Y(q))\n",
    "\n",
    "def trace1(f):\n",
    "    \"Print a trace of the input and output of a function on one line.\"\n",
    "    def traced_f(*args):\n",
    "        result = f(*args)\n",
    "        print('{}({}) = {}'.format(f.__name__, ', '.join(map(str, args)), result))\n",
    "        return result\n",
    "    return traced_f\n",
    "\n",
    "def astar_search(start, h_func, moves_func):\n",
    "    \"Find a shortest sequence of states from start to a goal state (a state s with h_func(s) == 0).\"\n",
    "    frontier  = [(h_func(start), start)] # A priority queue, ordered by path length, f = g + h\n",
    "    previous  = {start: None}  # start state has no previous state; other states will\n",
    "    path_cost = {start: 0}     # The cost of the best path to a state.\n",
    "    while frontier:\n",
    "        (f, s) = heappop(frontier)\n",
    "        if h_func(s) == 0:\n",
    "            return Path(previous, s)\n",
    "        for s2 in moves_func(s):\n",
    "            new_cost = path_cost[s] + 1\n",
    "            if s2 not in path_cost or new_cost < path_cost[s2]:\n",
    "                heappush(frontier, (new_cost + h_func(s2), s2))\n",
    "                path_cost[s2] = new_cost\n",
    "                previous[s2] = s\n",
    "    return dict(fail=True, front=len(frontier), prev=len(previous))\n",
    "                \n",
    "def Path(previous, s): \n",
    "    \"Return a list of states that lead to state s, according to the previous dict.\"\n",
    "    return ([] if (s is None) else Path(previous, previous[s]) + [s])"
   ]
  },
  {
   "cell_type": "markdown",
   "metadata": {},
   "source": [
    "Tests"
   ]
  },
  {
   "cell_type": "code",
   "execution_count": 4,
   "metadata": {},
   "outputs": [],
   "source": [
    "assert tuple(transpose(((1, 2, 3), (4, 5, 6)))) == ((1, 4), (2, 5), (3, 6))\n",
    "assert first('abc') == first(['a', 'b', 'c']) == 'a'\n",
    "assert cat(['a', 'b', 'c']) == 'abc'\n",
    "assert (groupby(['test', 'one', 'two', 'three', 'four'], key=len) \n",
    "        == {3: ['one', 'two'], 4: ['test', 'four'], 5: ['three']})"
   ]
  },
  {
   "cell_type": "markdown",
   "metadata": {},
   "source": [
    "# Day 1, challenge 1\n",
    "\n",
    "Need to obtain summation of all digits in a number such that the next digit is the same (circular)"
   ]
  },
  {
   "cell_type": "code",
   "execution_count": 31,
   "metadata": {},
   "outputs": [],
   "source": [
    "f = Input(1)\n",
    "data = f.read()[:-1]\n",
    "f.close()"
   ]
  },
  {
   "cell_type": "code",
   "execution_count": 34,
   "metadata": {},
   "outputs": [],
   "source": [
    "suma = 0\n",
    "for i in range(len(data[:-1])):\n",
    "    if data[i] == data[i+1]:\n",
    "        suma = suma+int(data[i])\n",
    "if data[0] == data[-1]:\n",
    "    suma = suma+int(data[-1])"
   ]
  },
  {
   "cell_type": "code",
   "execution_count": 35,
   "metadata": {},
   "outputs": [
    {
     "data": {
      "text/plain": [
       "1182"
      ]
     },
     "execution_count": 35,
     "metadata": {},
     "output_type": "execute_result"
    }
   ],
   "source": [
    "suma"
   ]
  },
  {
   "cell_type": "markdown",
   "metadata": {},
   "source": [
    "## Challenge 2\n",
    "In this case we obtain summation of all digits such that the digit `len(data)/2` ahead (modulo `len(data)`) is equal to that one. "
   ]
  },
  {
   "cell_type": "code",
   "execution_count": 38,
   "metadata": {},
   "outputs": [
    {
     "data": {
      "text/plain": [
       "1152"
      ]
     },
     "execution_count": 38,
     "metadata": {},
     "output_type": "execute_result"
    }
   ],
   "source": [
    "suma = 0\n",
    "for i in range(len(data)):\n",
    "    j = (i+len(data)//2)%len(data)\n",
    "    if data[i] == data[j]:\n",
    "        suma = suma+int(data[i])\n",
    "suma"
   ]
  },
  {
   "cell_type": "markdown",
   "metadata": {
    "collapsed": true
   },
   "source": [
    "# Day 2\n",
    "## Challenge 1\n",
    "Find checksum of matrix"
   ]
  },
  {
   "cell_type": "code",
   "execution_count": 22,
   "metadata": {},
   "outputs": [],
   "source": [
    "f = Input(2)\n",
    "data = f.read()\n",
    "data = data.split('\\n')[:-1]\n",
    "data = [d.split('\\t') for d in data]\n",
    "data = [[int(j) for j in i] for i in data]\n",
    "f.close()"
   ]
  },
  {
   "cell_type": "code",
   "execution_count": 23,
   "metadata": {},
   "outputs": [
    {
     "name": "stdout",
     "output_type": "stream",
     "text": [
      "41919\n"
     ]
    }
   ],
   "source": [
    "chcksm = 0\n",
    "for line in data:\n",
    "    chcksm += max(line) - min(line)\n",
    "print(chcksm)"
   ]
  },
  {
   "cell_type": "markdown",
   "metadata": {},
   "source": [
    "## Challenge 2"
   ]
  },
  {
   "cell_type": "code",
   "execution_count": 25,
   "metadata": {},
   "outputs": [
    {
     "name": "stdout",
     "output_type": "stream",
     "text": [
      "303\n"
     ]
    }
   ],
   "source": [
    "chcksm = 0\n",
    "for line in data:\n",
    "    for j1 in range(len(i)): \n",
    "        for j2 in range(len(i)):\n",
    "            if j2 != j1:\n",
    "                if i[j1] % i[j2] == 0:\n",
    "                    chcksm += int(line[j1]/line[j2])\n",
    "                    break\n",
    "print(chcksm)"
   ]
  },
  {
   "cell_type": "markdown",
   "metadata": {},
   "source": [
    "# Day 3\n",
    "## Challenge 1\n",
    "Objective: Find coordinates of n-th element of a spiral defined as:\n",
    "    \n",
    "    17  16  15  14  13\n",
    "    18   5   4   3  12\n",
    "    19   6   1   2  11\n",
    "    20   7   8   9  10\n",
    "    21  22  23---> ..."
   ]
  },
  {
   "cell_type": "code",
   "execution_count": 33,
   "metadata": {},
   "outputs": [],
   "source": [
    "def nextpos(num, prevpos):  # bruteforce ftw\n",
    "    if num == 1:\n",
    "        return np.array([0,0])\n",
    "    if num == 2:\n",
    "        return np.array([1,0])\n",
    "    if prevpos[0] > abs(prevpos[1]):\n",
    "        return prevpos + np.array([0, 1])\n",
    "    elif abs(prevpos[0]) < prevpos[1] or (prevpos[0] == prevpos[1] and prevpos[0]>0):\n",
    "        return prevpos + np.array([-1, 0])\n",
    "    elif abs(prevpos[0]) > abs(prevpos[1]) or (prevpos[0] == -1*prevpos[1] and prevpos[1]>0):\n",
    "        return prevpos + np.array([0, -1])\n",
    "    else:\n",
    "        return prevpos + np.array([1, 0])\n",
    "\n",
    "def pos(num):\n",
    "    if num == 1:\n",
    "        return np.array([0,0])\n",
    "    if num == 2:\n",
    "        return np.array([1,0])\n",
    "    prevpos = pos(num-1)\n",
    "    if prevpos[0] > abs(prevpos[1]):\n",
    "        return prevpos + np.array([0, 1])\n",
    "    elif abs(prevpos[0]) < prevpos[1] or (prevpos[0] == prevpos[1] and prevpos[0]>0):\n",
    "        return prevpos + np.array([-1, 0])\n",
    "    elif abs(prevpos[0]) > abs(prevpos[1]) or (prevpos[0] == -1*prevpos[1] and prevpos[1]>0):\n",
    "        return prevpos + np.array([0, -1])\n",
    "    else:\n",
    "        return prevpos + np.array([1, 0])\n",
    "\n",
    "prevpos = np.array([0,0])\n",
    "for i in range(1, 347991):\n",
    "    prevpos = nextpos(i+1, prevpos)"
   ]
  },
  {
   "cell_type": "code",
   "execution_count": 35,
   "metadata": {},
   "outputs": [
    {
     "data": {
      "text/plain": [
       "480"
      ]
     },
     "execution_count": 35,
     "metadata": {},
     "output_type": "execute_result"
    }
   ],
   "source": [
    "cityblock_distance(prevpos)"
   ]
  },
  {
   "cell_type": "markdown",
   "metadata": {},
   "source": [
    "## Challenge 2\n",
    "Filling each of the coordinate with the sum of all adjacent coordinates (going in spiral and starting with a 1 on `[0,0]`), find what's the value of the first position with a value greater than `347991` (my puzzle input)"
   ]
  },
  {
   "cell_type": "code",
   "execution_count": 30,
   "metadata": {},
   "outputs": [
    {
     "name": "stdout",
     "output_type": "stream",
     "text": [
      "349975\n"
     ]
    }
   ],
   "source": [
    "poss = {tuple(np.array([0,0])):1}\n",
    "prevpos = np.array([0,0])\n",
    "for i in range(1,347991):\n",
    "    prevpos = nextpos(i+1, prevpos)\n",
    "    num = 0\n",
    "    for neig in neighbors8(prevpos):  # these are tuples already, fixed a typo in Norvig's functions.\n",
    "        if neig in poss:\n",
    "            num += poss[neig]\n",
    "    poss[tuple(prevpos)] = num\n",
    "    if num > 347991:\n",
    "        print(num)\n",
    "        break"
   ]
  },
  {
   "cell_type": "markdown",
   "metadata": {},
   "source": [
    "# Day 4\n",
    "## Challenge 1\n",
    "Given a list of strings find duplicates."
   ]
  },
  {
   "cell_type": "code",
   "execution_count": 18,
   "metadata": {},
   "outputs": [],
   "source": [
    "f = Input(4)\n",
    "data = f.read()\n",
    "data = data.split('\\n')[:-1]\n",
    "data = [d.split(' ') for d in data]\n",
    "f.close()"
   ]
  },
  {
   "cell_type": "code",
   "execution_count": 19,
   "metadata": {},
   "outputs": [
    {
     "data": {
      "text/plain": [
       "451"
      ]
     },
     "execution_count": 19,
     "metadata": {},
     "output_type": "execute_result"
    }
   ],
   "source": [
    "res = [any(l.count(x)>1 for x in l) for l in data]\n",
    "len(res) - sum(res)"
   ]
  },
  {
   "cell_type": "markdown",
   "metadata": {},
   "source": [
    "## Challenge 2\n",
    "Look for anagrams (need to sort strings!)"
   ]
  },
  {
   "cell_type": "code",
   "execution_count": 21,
   "metadata": {},
   "outputs": [
    {
     "data": {
      "text/plain": [
       "223"
      ]
     },
     "execution_count": 21,
     "metadata": {},
     "output_type": "execute_result"
    }
   ],
   "source": [
    "data2 = [[cat(sorted(list(x))) for x in l] for l in data]  # ''.join() = cat is not necessary, but I like it.\n",
    "res = [len(l) > len(set(l)) for l in data2]  # Same as any(l.count(x)>1 for x in l) for l in data but can be faster.\n",
    "len(res) - sum(res)"
   ]
  },
  {
   "cell_type": "markdown",
   "metadata": {},
   "source": [
    "# Day 5\n",
    "## Challenge 1\n",
    "\n",
    "We traverse a sequence $(i_0(0), ..., i_0(n-1)$ the following way:\n",
    "\\begin{align}\n",
    "&x_0 &= &0\\\\\n",
    "&x_{t+1} &= &x_t + i_t(x_t)\\\\\n",
    "&i_{t+1}(x_t) &= &i_{t}(x_t) + 1\\\\\n",
    "\\end{align}\n",
    "\n",
    "Stop if $x_{t+1} > n-1$"
   ]
  },
  {
   "cell_type": "code",
   "execution_count": 36,
   "metadata": {},
   "outputs": [],
   "source": [
    "f = Input(5)\n",
    "data = f.read()\n",
    "data = data.split('\\n')[:-1]\n",
    "data = [int(i) for i in data]\n",
    "f.close()"
   ]
  },
  {
   "cell_type": "code",
   "execution_count": 37,
   "metadata": {},
   "outputs": [
    {
     "name": "stdout",
     "output_type": "stream",
     "text": [
      "354121\n"
     ]
    }
   ],
   "source": [
    "i = 0\n",
    "nexti = 0\n",
    "step = 0\n",
    "while i < len(data):\n",
    "    nexti = i + data[i]\n",
    "    data[i] = data[i] + 1\n",
    "    i = nexti\n",
    "    step = step+1\n",
    "print(step)\n"
   ]
  },
  {
   "cell_type": "markdown",
   "metadata": {},
   "source": [
    "## Challenge 2\n",
    "\n",
    "Now $i_{t+1}(x_t) = i_t(x_t) + 1$ if $i_t(x_t) < 3$ and $i_t(x_t) - 1$ else."
   ]
  },
  {
   "cell_type": "code",
   "execution_count": 38,
   "metadata": {},
   "outputs": [],
   "source": [
    "f = Input(5)\n",
    "data = f.read()\n",
    "data = data.split('\\n')[:-1]\n",
    "data = [int(i) for i in data]\n",
    "f.close()"
   ]
  },
  {
   "cell_type": "code",
   "execution_count": 17,
   "metadata": {},
   "outputs": [
    {
     "name": "stdout",
     "output_type": "stream",
     "text": [
      "27283023\n"
     ]
    }
   ],
   "source": [
    "i = 0\n",
    "nexti = 0\n",
    "step = 0\n",
    "while i < len(data):\n",
    "    nexti = i + data[i]\n",
    "    if data[i] >= 3:\n",
    "        data[i] = data[i] - 1\n",
    "    else:\n",
    "        data[i] = data[i] + 1\n",
    "    i = nexti\n",
    "    step = step+1\n",
    "print(step)\n"
   ]
  },
  {
   "cell_type": "markdown",
   "metadata": {},
   "source": [
    "# Day 6\n",
    "## Challenge 1 and 2"
   ]
  },
  {
   "cell_type": "code",
   "execution_count": 15,
   "metadata": {},
   "outputs": [
    {
     "data": {
      "text/plain": [
       "[4, 10, 4, 1, 8, 4, 9, 14, 5, 1, 14, 15, 0, 15, 3, 5]"
      ]
     },
     "execution_count": 15,
     "metadata": {},
     "output_type": "execute_result"
    }
   ],
   "source": [
    "f = Input(6)\n",
    "data = f.read().split('\\t')\n",
    "data = [int(i) for i in data]\n",
    "f.close()\n",
    "data"
   ]
  },
  {
   "cell_type": "code",
   "execution_count": 16,
   "metadata": {},
   "outputs": [
    {
     "name": "stdout",
     "output_type": "stream",
     "text": [
      "12841\n",
      "8038\n",
      "[1, 0, 14, 14, 12, 11, 10, 9, 9, 7, 5, 5, 4, 3, 7, 1]\n"
     ]
    }
   ],
   "source": [
    "def redist(inp):\n",
    "    i = 0\n",
    "    dat = 0\n",
    "    for j in range(len(inp)):\n",
    "        if inp[j] > dat:\n",
    "            i = j\n",
    "            dat = inp[j]\n",
    "    inp[i] = 0\n",
    "    while dat > 0:\n",
    "        i = (i+1)%len(inp)\n",
    "        inp[i] += 1\n",
    "        dat -= 1\n",
    "    return inp\n",
    "\n",
    "mydict = {}\n",
    "mydict[tuple(data)] = 0\n",
    "step = 0\n",
    "while True:\n",
    "    step += 1\n",
    "    redist(data)\n",
    "    if tuple(data) in mydict:\n",
    "        break\n",
    "    else:\n",
    "        mydict[tuple(data)] = step\n",
    "print(step)\n",
    "print(step-mydict[tuple(data)])\n",
    "print(data)"
   ]
  },
  {
   "cell_type": "markdown",
   "metadata": {},
   "source": [
    "# Day 7\n",
    "## Challenge 1"
   ]
  },
  {
   "cell_type": "code",
   "execution_count": 44,
   "metadata": {},
   "outputs": [],
   "source": [
    "from anytree import Node, RenderTree, PostOrderIter"
   ]
  },
  {
   "cell_type": "code",
   "execution_count": 57,
   "metadata": {},
   "outputs": [],
   "source": [
    "f = Input(7)\n",
    "data = f.read().split('\\n')[:-1]\n",
    "data = [d.split(' -> ') for d in data]\n",
    "nodedict = {}\n",
    "for d in data:\n",
    "    daux = d[0].split(' ')\n",
    "    nodedict[daux[0]] = Node(daux[0], weight=int(daux[1][1:-1]))\n",
    "for d in data:\n",
    "    daux = d[0].split(' ')\n",
    "    if len(d) > 1:\n",
    "        for program in d[1].split(', '):\n",
    "            nodedict[program].parent = nodedict[daux[0]]\n",
    "f.close()"
   ]
  },
  {
   "cell_type": "code",
   "execution_count": 58,
   "metadata": {},
   "outputs": [
    {
     "name": "stdout",
     "output_type": "stream",
     "text": [
      "Node('/aapssr', weight=72)\n",
      "0\n"
     ]
    },
    {
     "data": {
      "text/plain": [
       "5"
      ]
     },
     "execution_count": 58,
     "metadata": {},
     "output_type": "execute_result"
    }
   ],
   "source": [
    "print(nodedict['czlmv'].root)\n",
    "root = nodedict['aapssr']\n",
    "print(root.depth)\n",
    "len(root.children)"
   ]
  },
  {
   "cell_type": "markdown",
   "metadata": {},
   "source": [
    "## Challenge 2"
   ]
  },
  {
   "cell_type": "code",
   "execution_count": 59,
   "metadata": {},
   "outputs": [
    {
     "name": "stdout",
     "output_type": "stream",
     "text": [
      "Node('/aapssr/qwada/pkowhq', weight=1187)\n",
      "[1486, 1492, 1486, 1486]\n",
      "(Node('/aapssr/qwada/pkowhq/zfrsmm', weight=763), Node('/aapssr/qwada/pkowhq/tlskukk', weight=1464), Node('/aapssr/qwada/pkowhq/fqkbscn', weight=418), Node('/aapssr/qwada/pkowhq/mlafk', weight=38))\n"
     ]
    }
   ],
   "source": [
    "def BalancedSubtowers(node):\n",
    "    if len(node.children) == 0:\n",
    "        return [0]\n",
    "    weights = [child.weight + sum(BalancedSubtowers(child)) for child in node.children]\n",
    "    return weights\n",
    "\n",
    "for node in PostOrderIter(root):\n",
    "    if len(set(BalancedSubtowers(node))) > 1:\n",
    "        print(node)\n",
    "        break\n",
    "\n",
    "print(BalancedSubtowers(nodedict['pkowhq']))\n",
    "print(nodedict['pkowhq'].children)"
   ]
  },
  {
   "cell_type": "markdown",
   "metadata": {},
   "source": [
    "# Day 8\n",
    "## Challenge 1"
   ]
  },
  {
   "cell_type": "code",
   "execution_count": 2,
   "metadata": {},
   "outputs": [],
   "source": [
    "from collections import defaultdict"
   ]
  },
  {
   "cell_type": "code",
   "execution_count": 12,
   "metadata": {},
   "outputs": [],
   "source": [
    "f = Input(8)\n",
    "data = f.read().split('\\n')[:-1]\n",
    "f.close()"
   ]
  },
  {
   "cell_type": "code",
   "execution_count": 6,
   "metadata": {},
   "outputs": [],
   "source": [
    "regs = defaultdict(lambda: 0)\n",
    "def parse(line):\n",
    "    laux = line.split(' ')\n",
    "    cond = laux[-3:]\n",
    "    cond[0] = \"regs['{}']\".format(cond[0])\n",
    "    if eval(' '.join(cond)):\n",
    "        if laux[1] == 'inc':\n",
    "            regs[laux[0]] += int(laux[2])\n",
    "        else:\n",
    "            regs[laux[0]] -= int(laux[2])\n",
    "    return 1\n"
   ]
  },
  {
   "cell_type": "code",
   "execution_count": 7,
   "metadata": {},
   "outputs": [],
   "source": [
    "for l in data:\n",
    "    parse(l)"
   ]
  },
  {
   "cell_type": "code",
   "execution_count": 10,
   "metadata": {},
   "outputs": [
    {
     "data": {
      "text/plain": [
       "3612"
      ]
     },
     "execution_count": 10,
     "metadata": {},
     "output_type": "execute_result"
    }
   ],
   "source": [
    "max(regs.values())"
   ]
  },
  {
   "cell_type": "markdown",
   "metadata": {},
   "source": [
    "## Challenge 2"
   ]
  },
  {
   "cell_type": "code",
   "execution_count": 11,
   "metadata": {},
   "outputs": [
    {
     "data": {
      "text/plain": [
       "3818"
      ]
     },
     "execution_count": 11,
     "metadata": {},
     "output_type": "execute_result"
    }
   ],
   "source": [
    "regs = defaultdict(lambda: 0)\n",
    "maxval = 0\n",
    "for l in data:\n",
    "    parse(l)\n",
    "    if max(regs.values()) > maxval:\n",
    "        maxval = max(regs.values())\n",
    "maxval"
   ]
  },
  {
   "cell_type": "code",
   "execution_count": null,
   "metadata": {},
   "outputs": [],
   "source": []
  }
 ],
 "metadata": {
  "kernelspec": {
   "display_name": "Python 2",
   "language": "python",
   "name": "python2"
  },
  "language_info": {
   "codemirror_mode": {
    "name": "ipython",
    "version": 3
   },
   "file_extension": ".py",
   "mimetype": "text/x-python",
   "name": "python",
   "nbconvert_exporter": "python",
   "pygments_lexer": "ipython3",
   "version": "3.6.3"
  }
 },
 "nbformat": 4,
 "nbformat_minor": 1
}
